{
  "nbformat": 4,
  "nbformat_minor": 0,
  "metadata": {
    "colab": {
      "name": "10장 도전문제",
      "provenance": [],
      "authorship_tag": "ABX9TyMkownQD4tp0OGLmKSvspDc",
      "include_colab_link": true
    },
    "kernelspec": {
      "name": "python3",
      "display_name": "Python 3"
    },
    "language_info": {
      "name": "python"
    }
  },
  "cells": [
    {
      "cell_type": "markdown",
      "metadata": {
        "id": "view-in-github",
        "colab_type": "text"
      },
      "source": [
        "<a href=\"https://colab.research.google.com/github/seoyoons/python/blob/main/10%EC%9E%A5_%EB%8F%84%EC%A0%84%EB%AC%B8%EC%A0%9C.ipynb\" target=\"_parent\"><img src=\"https://colab.research.google.com/assets/colab-badge.svg\" alt=\"Open In Colab\"/></a>"
      ]
    },
    {
      "cell_type": "code",
      "execution_count": null,
      "metadata": {
        "id": "zwPmcvE3Iu2e"
      },
      "outputs": [],
      "source": [
        "from tkinter import * \n",
        "\n",
        "def process():\n",
        "  temperature = float(e1.get())\n",
        "  mytemp = (temperature-32)*5/9\n",
        "  e2.insert(0, str(mytemp))\n",
        "\n",
        "def process2():\n",
        "  temperature = float(e2.get())\n",
        "  mytemp = (temperature*(9/5))+32\n",
        "  e1.insert(0, str(mytemp)) \n",
        "\n",
        "window = Tk()\n",
        "\n",
        "l1 = Label(window, text = \"화씨\")\n",
        "l2 = Label(window, text = \"섭씨\")\n",
        "l1.grid(row = 0, column = 0)\n",
        "l2.grid(row = 1, column = 0)\n",
        "\n",
        "e1 = Entry(window)\n",
        "e2 = Entry(window)\n",
        "e1.grid(row = 0, column = 1)\n",
        "e2.grid(row = 1, column = 1)\n",
        "\n",
        "b1 = Button(window, text = \"화씨 -> 섭씨\", command=process)\n",
        "b2 = Button(window, text = \"섭씨 -> 화씨\", command=process2)\n",
        "b1.grid(row = 2, column = 0)\n",
        "b2.grid(row = 2, column = 1)\n",
        "\n",
        "window.mainloop()"
      ]
    },
    {
      "cell_type": "code",
      "source": [
        "from tkinter import * \n",
        "\n",
        "window = Tk()\n",
        "\n",
        "w = Button(window, text = \"버튼1\", bg=\"red\", fg=\"white\")\n",
        "w.place(x=0, y=0)\n",
        "w = Button(window, text = \"버튼2\", bg=\"orange\", fg=\"white\")\n",
        "w.place(x=20, y=20)\n",
        "w = Button(window, text = \"버튼3\", bg=\"yellow\", fg=\"white\")\n",
        "w.place(x=40, y=40)\n",
        "w = Button(window, text = \"버튼4\", bg=\"green\", fg=\"white\")\n",
        "w.place(x=60, y=60)\n",
        "w = Button(window, text = \"버튼5\", bg=\"blue\", fg=\"white\")\n",
        "w.place(x=80, y=80)\n",
        "\n",
        "window.mainloop()"
      ],
      "metadata": {
        "id": "pgo8Mq8kJGPe"
      },
      "execution_count": null,
      "outputs": []
    },
    {
      "cell_type": "code",
      "source": [
        "from tkinter import * \n",
        "\n",
        "def paint(event):\n",
        "  global lastx, lasty\n",
        "  x, y = (event.x),(event.y)\n",
        "  canvas.create_line(lastx,lasty,x,y,fill = \"black\")\n",
        "  lastx,lasty = x,y\n",
        "\n",
        "def activate_paint(event):\n",
        "  global lastx, lasty\n",
        "  lastx, lasty = (event.x),(event.y) \n",
        "\n",
        "def release(event):\n",
        "  global lastx, lasty\n",
        "  \n",
        "  if (lastx, lasty) == (event.x,event.y):\n",
        "    canvas.create_line(lastx,lasty,lastx+1,lasty+1)\n",
        "    \n",
        "lastx,lasty = None, None\n",
        "\n",
        "window = Tk()\n",
        "canvas = Canvas(window)\n",
        "canvas.pack()\n",
        "canvas.bind('<B1-Motion>',paint)\n",
        "canvas.bind('<ButtonPress-1>', activate_paint) #B1-Press\n",
        "canvas.bind('<ButtonRelease-1>',release) #B1-Release\n",
        "window.mainloop()"
      ],
      "metadata": {
        "id": "u6MalSHVJKGI"
      },
      "execution_count": null,
      "outputs": []
    },
    {
      "cell_type": "code",
      "source": [
        "from tkinter import *\n",
        "mycolor = \"blue\"\n",
        "def paint(event):\n",
        "  x1,y1 = (event.x-1), (event.y+1)\n",
        "  x2,y2 = (event.x-1), (event.y+1)\n",
        "  canvas.create_oval(x1, y1, x2, y2, fill = mycolor)\n",
        "\n",
        "def change_color_red():\n",
        "  global mycolor\n",
        "  mycolor = \"red\"\n",
        "\n",
        "def change_color_green():\n",
        "  global mycolor\n",
        "  mycolor = \"green\"\n",
        "\n",
        "def change_color_yellow():\n",
        "  global mycolor\n",
        "  mycolor = \"yellow\"\n",
        "\n",
        "window = Tk()\n",
        "canvas = Canvas(window)\n",
        "canvas.pack()\n",
        "canvas.bind(\"<B1-Motion>\", paint)\n",
        "button = Button(window, text=\"빨간색\", command=change_color_red)\n",
        "button.pack()\n",
        "button = Button(window, text=\"녹 색\", command=change_color_green)\n",
        "button.pack()\n",
        "button = Button(window, text=\"노란색\", command=change_color_yellow)\n",
        "button.pack()\n",
        "window.mainloop()"
      ],
      "metadata": {
        "id": "_AFXzFBSJNMN"
      },
      "execution_count": null,
      "outputs": []
    }
  ]
}