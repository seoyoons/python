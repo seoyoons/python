{
  "nbformat": 4,
  "nbformat_minor": 0,
  "metadata": {
    "colab": {
      "name": "11장 연습문제",
      "provenance": [],
      "authorship_tag": "ABX9TyNYamoHqf8CC3vB70OfsOOv",
      "include_colab_link": true
    },
    "kernelspec": {
      "name": "python3",
      "display_name": "Python 3"
    },
    "language_info": {
      "name": "python"
    }
  },
  "cells": [
    {
      "cell_type": "markdown",
      "metadata": {
        "id": "view-in-github",
        "colab_type": "text"
      },
      "source": [
        "<a href=\"https://colab.research.google.com/github/seoyoons/python/blob/main/11%EC%9E%A5_%EC%97%B0%EC%8A%B5%EB%AC%B8%EC%A0%9C.ipynb\" target=\"_parent\"><img src=\"https://colab.research.google.com/assets/colab-badge.svg\" alt=\"Open In Colab\"/></a>"
      ]
    },
    {
      "cell_type": "code",
      "execution_count": null,
      "metadata": {
        "id": "UdbCdes5KPc0"
      },
      "outputs": [],
      "source": [
        "filename = input(\"파일 이름을 입력하세요: \").strip()  #파일 이름 입력/ strip함수는 문자열의 앞 뒤에 있는 공백을 제거한다.\n",
        "infile = open(filename, \"r\") #파일이름, 파일을 여는 모드/ \"r\"은 읽기모드, 파일의 처음부터 읽는다.\n",
        "count = 0 #초기화\n",
        "\n",
        "for line in infile: \n",
        "      for ch in line: \n",
        "            count += \n",
        "\n",
        "print(\"파일 안에는 총 \", count , \"개의 글자가 있습니다.\")\n",
        "infile.close() # 파일을 닫는다."
      ]
    },
    {
      "cell_type": "code",
      "source": [
        "infilename = input(\"파일 이름을 입력하시오: \").strip() #파일 이름 입력\n",
        "infile = open(infilename, \"r\") #파일 이름, 파일 여는 모드 \n",
        "file_s = infile.read()  #전체 파일을 읽는다.\n",
        "removed_s = input(\"삭제할 문자열을 입력하시오: \").strip() #삭제할 문자열 입력\n",
        "modified_s = file_s.replace(removed_s, \"\") #수정\n",
        "\n",
        "infile.close() #파일을 닫는다\n",
        "outfile = open(infilename, \"w\") #출력파일 이름 받기/ \"w\"는 쓰기모드\n",
        "\n",
        "print(modified_s, file = outfile, end = \"\") 수정된 파일/ 한 줄로 표시 \n",
        "print(\"변경된 파일이 저장되었습니다.\") \n",
        "outfile.close() #파일을 닫는다."
      ],
      "metadata": {
        "id": "_BEgNqOZKbD7"
      },
      "execution_count": null,
      "outputs": []
    },
    {
      "cell_type": "code",
      "source": [
        "filename=input('입력 파일 이름: ') #파일 이름 입력\n",
        "\n",
        "infile=open(filename) #입력을 위한 파일 열기\n",
        "\n",
        "dic={} #딕셔너리\n",
        "\n",
        "for line in infile: #파일의 문장\n",
        "  for word in line: #문장 속 단어\n",
        "    for letter in word: #단어 속 문자\n",
        "      if not letter in dic: #문자가 딕셔너리에 없으면\n",
        "        dic:[letter]=0 #0번으로 딕셔너리에 저장\n",
        "      dic[letter]+=1 # 그 다음 문자는 1번으로 저장"
      ],
      "metadata": {
        "id": "4vj969KCKjHI"
      },
      "execution_count": null,
      "outputs": []
    },
    {
      "cell_type": "code",
      "source": [
        "import pickle #pickle 모듈 불러오기\n",
        "\n",
        "outfile = open(\"test.dat\", \"wb\") #출력을 위한 파일을 연다\n",
        "pickle.dump(12, outfile) #값을 전달(파일 출력)해주는 dump 메서드 이용\n",
        "pickle.dump(3.14, outfile)\n",
        "pickle.dump([1, 2, 3, 4, 5], outfile)\n",
        "outfile.close() #파일 닫는다.\n",
        "\n",
        "infile = open(\"test.dat\", \"rb\") #입력을 위한 파일을 연다.\n",
        "print(pickle.load(infile)) \n",
        "print(pickle.load(infile))\n",
        "print(pickle.load(infile))\n",
        "infile.close() #파일을 닫는다."
      ],
      "metadata": {
        "id": "oGMwfw9TL-M-"
      },
      "execution_count": null,
      "outputs": []
    },
    {
      "cell_type": "code",
      "source": [
        "inFileName = input(\"입력 파일 이름: \") #입력 파일 이름을 받는다.\n",
        "outFileName = input(\"출력 파일 이름: \") #출력 파일 이름을 받는다.\n",
        "\n",
        "infile = open(inFileName, \"r\") #입력을 위한 파일을 연다.\n",
        "outfile = open(outFileName, \"w\") #출력을 위한 파일을 연다.\n",
        "\n",
        "total = 0.0 \n",
        "count = 0\n",
        "\n",
        "line = infile.readline()\n",
        "while line != \"\" : #문장이 이와 같지 않다면 반복\n",
        "      value = float(line) \n",
        "      total = total + value\n",
        "      count = count + 1\n",
        "      line = infile.readline()\n",
        "\n",
        "outfile.write(\"합계=\"+ str(total)+\"\\n\") #전체파일을 쓴다./ 역슬래쉬n은 다음 줄에 써지는 걸 설정\n",
        "\n",
        "avg = total / count\n",
        "outfile.write(\"평균=\"+ str(avg)+\"\\n\") #전체파일을 쓴다\n",
        "\n",
        "infile.close() #파일을 닫는다.\n",
        "outfile.close()"
      ],
      "metadata": {
        "id": "WBdUoROwMGtN"
      },
      "execution_count": null,
      "outputs": []
    },
    {
      "cell_type": "code",
      "source": [
        "import pickle\n",
        "from tkinter import *\n",
        "\n",
        "phone_book = { }\n",
        "current = 0\n",
        "name = \"\"\n",
        "phone = \"\"\n",
        "\n",
        "window = Tk() \n",
        "\n",
        "\n",
        "frame1 = Frame(window)\n",
        "frame1.pack()\n",
        "Label(frame1, text = \"이름 \").grid(row = 1, column = 1, sticky = W)\n",
        "nameEntry = Entry(frame1, textvariable = name, width = 30)\n",
        "nameEntry.grid(row = 1, column = 2)\n",
        "\n",
        "frame2 = Frame(window)\n",
        "frame2.pack()\n",
        "Label(frame2, text = \"전화번호\").grid(row = 1, column = 1, sticky = W)\n",
        "phoneEntry = Entry(frame2, textvariable = phone, width = 30)\n",
        "phoneEntry.grid(row = 1, column = 2)\n",
        "\n",
        "frame3 = Frame(window)\n",
        "frame3.pack()\n",
        "\n",
        "def save():\n",
        "      outfile = open(\"phonebook.dat\", \"wb\")\n",
        "      pickle.dump(phone_book, outfile)\n",
        "      print(\"주소들이 파일에 저장되었습니다\")\n",
        "      outfile.close()\n",
        "\n",
        "def load():\n",
        "      infile = open(\"phonebook.dat\", \"rb\")\n",
        "      phone_book = pickle.load(infile)\n",
        "      infile.close()\n",
        "      print(\"파일에서 주소를 읽었습니다.\")\n",
        "      go_first()\n",
        "\n",
        "def add():\n",
        "      phone_book[nameEntry.get()] = phoneEntry.get()\n",
        "      print(phone_book)\n",
        "      save()\n",
        "\n",
        "def go_first():\n",
        "      global current\n",
        "      current = 0\n",
        "      ks = list(phone_book)\n",
        "      print(phone_book)\n",
        "      nameEntry.delete(0, END)\n",
        "      nameEntry.insert(0, ks[current])\n",
        "      phoneEntry.delete(0, END)\n",
        "      phoneEntry.insert(0, phone_book[ks[current]])\n",
        "\n",
        "def go_next():\n",
        "      global current\n",
        "      current += 1\n",
        "      ks = list(phone_book)\n",
        "      nameEntry.delete(0, END)\n",
        "      nameEntry.insert(0, ks[current])\n",
        "      phoneEntry.delete(0, END)\n",
        "      phoneEntry.insert(0, phone_book[ks[current]])\n",
        "\n",
        "def go_previous():\n",
        "      print(\"구현되지 않았음\")\n",
        "\n",
        "def go_last():\n",
        "      print(\"구현되지 않았음\")\n",
        "\n",
        "b1 = Button(frame3, text = \"추가\", command = add).grid(row = 1, column = 1)\n",
        "b2 = Button(frame3, text = \"처음\", command = go_first).grid(row = 1, column = 2)\n",
        "b3 = Button(frame3, text = \"다음\", command = go_next).grid(row = 1, column = 3)\n",
        "b4 = Button(frame3, text = \"이전\", command =go_previous).grid(row = 1, column = 4)\n",
        "b5 = Button(frame3, text = \"마지막\", command = go_last).grid(row = 1, column = 5)\n",
        "b6 = Button(frame3, text = \"파일 읽기\", command = load).grid(row = 1, column = 6)\n",
        "\n",
        "window.mainloop()"
      ],
      "metadata": {
        "id": "KhkXgg5zMWRn"
      },
      "execution_count": null,
      "outputs": []
    }
  ]
}