{
  "nbformat": 4,
  "nbformat_minor": 0,
  "metadata": {
    "colab": {
      "name": "11장 연습문제",
      "provenance": [],
      "authorship_tag": "ABX9TyOWJ8GBWtCuBbKJRf6o2pIQ",
      "include_colab_link": true
    },
    "kernelspec": {
      "name": "python3",
      "display_name": "Python 3"
    },
    "language_info": {
      "name": "python"
    }
  },
  "cells": [
    {
      "cell_type": "markdown",
      "metadata": {
        "id": "view-in-github",
        "colab_type": "text"
      },
      "source": [
        "<a href=\"https://colab.research.google.com/github/seoyoons/python/blob/main/11%EC%9E%A5_%EC%97%B0%EC%8A%B5%EB%AC%B8%EC%A0%9C.ipynb\" target=\"_parent\"><img src=\"https://colab.research.google.com/assets/colab-badge.svg\" alt=\"Open In Colab\"/></a>"
      ]
    },
    {
      "cell_type": "code",
      "execution_count": null,
      "metadata": {
        "id": "UdbCdes5KPc0"
      },
      "outputs": [],
      "source": [
        "filename = input(\"파일 이름을 입력하세요: \").strip()\n",
        "infile = open(filename, \"r\") \n",
        "count = 0\n",
        "\n",
        "for line in infile:\n",
        "      for ch in line:\n",
        "            count += 1\n",
        "\n",
        "print(\"파일 안에는 총 \", count , \"개의 글자가 있습니다.\")\n",
        "infile.close() # 파일을 닫는다."
      ]
    },
    {
      "cell_type": "code",
      "source": [
        "infilename = input(\"파일 이름을 입력하시오: \").strip()\n",
        "infile = open(infilename, \"r\")\n",
        "file_s = infile.read() \n",
        "removed_s = input(\"삭제할 문자열을 입력하시오: \").strip()\n",
        "modified_s = file_s.replace(removed_s, \"\")\n",
        "\n",
        "infile.close() \n",
        "outfile = open(infilename, \"w\")\n",
        "\n",
        "print(modified_s, file = outfile, end = \"\") \n",
        "print(\"변경된 파일이 저장되었습니다.\") \n",
        "outfile.close() "
      ],
      "metadata": {
        "id": "_BEgNqOZKbD7"
      },
      "execution_count": null,
      "outputs": []
    },
    {
      "cell_type": "code",
      "source": [
        "filename=input('입력 파일 이름: ')\n",
        "\n",
        "infile=open(filename)\n",
        "\n",
        "dic={}\n",
        "\n",
        "for line in infile:\n",
        "  for word in line:\n",
        "    for letter in word:\n",
        "      if not letter in dic:\n",
        "        dic:[letter]=0\n",
        "      dic[letter]+=1"
      ],
      "metadata": {
        "id": "4vj969KCKjHI"
      },
      "execution_count": null,
      "outputs": []
    },
    {
      "cell_type": "code",
      "source": [
        "import pickle\n",
        "\n",
        "outfile = open(\"test.dat\", \"wb\")\n",
        "pickle.dump(12, outfile)\n",
        "pickle.dump(3.14, outfile)\n",
        "pickle.dump([1, 2, 3, 4, 5], outfile)\n",
        "outfile.close() \n",
        "\n",
        "infile = open(\"test.dat\", \"rb\")\n",
        "print(pickle.load(infile))\n",
        "print(pickle.load(infile))\n",
        "print(pickle.load(infile))\n",
        "infile.close() "
      ],
      "metadata": {
        "id": "oGMwfw9TL-M-"
      },
      "execution_count": null,
      "outputs": []
    },
    {
      "cell_type": "code",
      "source": [
        "inFileName = input(\"입력 파일 이름: \")\n",
        "outFileName = input(\"출력 파일 이름: \")\n",
        "\n",
        "infile = open(inFileName, \"r\")\n",
        "outfile = open(outFileName, \"w\")\n",
        "\n",
        "total = 0.0\n",
        "count = 0\n",
        "\n",
        "line = infile.readline()\n",
        "while line != \"\" :\n",
        "      value = float(line)\n",
        "      total = total + value\n",
        "      count = count + 1\n",
        "      line = infile.readline()\n",
        "\n",
        "outfile.write(\"합계=\"+ str(total)+\"\\n\")\n",
        "\n",
        "avg = total / count\n",
        "outfile.write(\"평균=\"+ str(avg)+\"\\n\")\n",
        "\n",
        "infile.close()\n",
        "outfile.close()"
      ],
      "metadata": {
        "id": "WBdUoROwMGtN"
      },
      "execution_count": null,
      "outputs": []
    },
    {
      "cell_type": "code",
      "source": [
        "import pickle\n",
        "from tkinter import *\n",
        "\n",
        "phone_book = { }\n",
        "current = 0\n",
        "name = \"\"\n",
        "phone = \"\"\n",
        "\n",
        "window = Tk() \n",
        "\n",
        "\n",
        "frame1 = Frame(window)\n",
        "frame1.pack()\n",
        "Label(frame1, text = \"이름 \").grid(row = 1, column = 1, sticky = W)\n",
        "nameEntry = Entry(frame1, textvariable = name, width = 30)\n",
        "nameEntry.grid(row = 1, column = 2)\n",
        "\n",
        "frame2 = Frame(window)\n",
        "frame2.pack()\n",
        "Label(frame2, text = \"전화번호\").grid(row = 1, column = 1, sticky = W)\n",
        "phoneEntry = Entry(frame2, textvariable = phone, width = 30)\n",
        "phoneEntry.grid(row = 1, column = 2)\n",
        "\n",
        "frame3 = Frame(window)\n",
        "frame3.pack()\n",
        "\n",
        "def save():\n",
        "      outfile = open(\"phonebook.dat\", \"wb\")\n",
        "      pickle.dump(phone_book, outfile)\n",
        "      print(\"주소들이 파일에 저장되었습니다\")\n",
        "      outfile.close()\n",
        "\n",
        "def load():\n",
        "      infile = open(\"phonebook.dat\", \"rb\")\n",
        "      phone_book = pickle.load(infile)\n",
        "      infile.close()\n",
        "      print(\"파일에서 주소를 읽었습니다.\")\n",
        "      go_first()\n",
        "\n",
        "def add():\n",
        "      phone_book[nameEntry.get()] = phoneEntry.get()\n",
        "      print(phone_book)\n",
        "      save()\n",
        "\n",
        "def go_first():\n",
        "      global current\n",
        "      current = 0\n",
        "      ks = list(phone_book)\n",
        "      print(phone_book)\n",
        "      nameEntry.delete(0, END)\n",
        "      nameEntry.insert(0, ks[current])\n",
        "      phoneEntry.delete(0, END)\n",
        "      phoneEntry.insert(0, phone_book[ks[current]])\n",
        "\n",
        "def go_next():\n",
        "      global current\n",
        "      current += 1\n",
        "      ks = list(phone_book)\n",
        "      nameEntry.delete(0, END)\n",
        "      nameEntry.insert(0, ks[current])\n",
        "      phoneEntry.delete(0, END)\n",
        "      phoneEntry.insert(0, phone_book[ks[current]])\n",
        "\n",
        "def go_previous():\n",
        "      print(\"구현되지 않았음\")\n",
        "\n",
        "def go_last():\n",
        "      print(\"구현되지 않았음\")\n",
        "\n",
        "b1 = Button(frame3, text = \"추가\", command = add).grid(row = 1, column = 1)\n",
        "b2 = Button(frame3, text = \"처음\", command = go_first).grid(row = 1, column = 2)\n",
        "b3 = Button(frame3, text = \"다음\", command = go_next).grid(row = 1, column = 3)\n",
        "b4 = Button(frame3, text = \"이전\", command =go_previous).grid(row = 1, column = 4)\n",
        "b5 = Button(frame3, text = \"마지막\", command = go_last).grid(row = 1, column = 5)\n",
        "b6 = Button(frame3, text = \"파일 읽기\", command = load).grid(row = 1, column = 6)\n",
        "\n",
        "window.mainloop()"
      ],
      "metadata": {
        "id": "KhkXgg5zMWRn"
      },
      "execution_count": null,
      "outputs": []
    }
  ]
}