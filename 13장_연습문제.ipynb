{
  "nbformat": 4,
  "nbformat_minor": 0,
  "metadata": {
    "colab": {
      "name": "13장 연습문제",
      "provenance": [],
      "authorship_tag": "ABX9TyPp3MkuQ5jxkqa3bnAycMYS",
      "include_colab_link": true
    },
    "kernelspec": {
      "name": "python3",
      "display_name": "Python 3"
    },
    "language_info": {
      "name": "python"
    }
  },
  "cells": [
    {
      "cell_type": "markdown",
      "metadata": {
        "id": "view-in-github",
        "colab_type": "text"
      },
      "source": [
        "<a href=\"https://colab.research.google.com/github/seoyoons/python/blob/main/13%EC%9E%A5_%EC%97%B0%EC%8A%B5%EB%AC%B8%EC%A0%9C.ipynb\" target=\"_parent\"><img src=\"https://colab.research.google.com/assets/colab-badge.svg\" alt=\"Open In Colab\"/></a>"
      ]
    },
    {
      "cell_type": "code",
      "execution_count": null,
      "metadata": {
        "id": "wVa95Ba0UghB"
      },
      "outputs": [],
      "source": [
        "class Circle: #클래스 Circle 선언\n",
        "      def __init__(self, radius): #반지름\n",
        "            self.radius = radius\n",
        "      \n",
        "      def calcPerimeter(self): #원의 둘레\n",
        "            return 2 * 3.141592 * self.radius #반환값\n",
        "      \n",
        "      def calcArea(self): #원의 면적\n",
        "            return 3.141592* self.radius*self.radius #반환값\n",
        "\n",
        "circle = Circle(100)\n",
        "print(\"반지름: \", circle.radius,\n",
        " \"원의 면적: \", circle.calcArea(),\n",
        " \"원의 둘레: \", circle.calcPerimeter() );"
      ]
    },
    {
      "cell_type": "code",
      "source": [
        "class TV:\n",
        "      def __init__(self): #객체 생성시 초기화\n",
        "            self.channel=1\n",
        "            self.volume=1\n",
        "            self.on=True #객체가 만들어질때 TV는 ON\n",
        "\n",
        "      def turnOn(self): #TV ON 함수\n",
        "            self.on=True #TV 상태 정보 속성을 변경\n",
        "            print(\"TV가 켜졌습니다.\")\n",
        "\n",
        "      def turnOff(self): #TV OFF 함수\n",
        "            self.on=False #TV 상태 정보 속성을 변경\n",
        "            print(\"TV가 꺼졌습니다.\") \n",
        "  \n",
        "      def setChannel(self, channel): #채널을 설정하는 메소드\n",
        "            self.channel=channel # TV 채널 세팅\n",
        "\n",
        "      def setVolume(self, volume):#볼륨을 설정하는 메소드\n",
        "            self.volume=volume #TV 볼륨 세팅\n",
        "\n",
        "      def __str__(self):\n",
        "            return \"TV의 채널 : %d TV의 음량 : %d\" % (self.channel, self.volume) #반환값\n",
        "\n",
        "a=TV()\n",
        "a.setChannel(11)\n",
        "a.setVolume(6)\n",
        "print(a)"
      ],
      "metadata": {
        "id": "2XOPUAS1U2W8"
      },
      "execution_count": null,
      "outputs": []
    },
    {
      "cell_type": "code",
      "source": [
        "import turtle #turtle 모듈 불러오기\n",
        "\n",
        "lee = turtle.Pen() #거북이 객체 생성\n",
        "park = turtle.Pen() #거북이 객체 생성\n",
        "\n",
        "lee.shape(\"turtle\") #아이콘을 거북이 모양으로 선언\n",
        "lee.forward(100) #100픽셀 직진\n",
        "lee.right(90) #90도 오른쪽으로 회전\n",
        "lee.forward(20) #20픽셀 직진\n",
        "lee.left(90) #90도 왼쪽으로 회전\n",
        "lee.forward(100) #100픽셀 직진\n",
        "\n",
        "park.shape(\"circle\") #아이콘을 원 모양으로 선언\n",
        "park.forward(-100) #-100픽셀만큼 직진\n",
        "park.right(90) #90도 오른쪽으로 회전\n",
        "park.forward(-20) #-20만큼 직진\n",
        "park.left(90) #90도 왼쪽으로 회전\n",
        "park.forward(-100) #-100픽셀만큼 직진"
      ],
      "metadata": {
        "id": "2cXq5q4VWnR8"
      },
      "execution_count": null,
      "outputs": []
    },
    {
      "cell_type": "code",
      "source": [
        "import turtle #turtle 모듈 불러오기\n",
        "class MyTurtle(turtle.Turtle): #MyTurtle이라는 클래스 선언\n",
        "      def drawSquare(self): #self는 클래스 안에 포함된 메서드 간에 서로 호출해야 할 경우\n",
        "            for i in range(4): #4번 반복\n",
        "                  self.right(90) #오른쪽으로 90도 회전\n",
        "                  self.forward(100) #100픽셀 직진\n",
        "\n",
        "my_turtle = MyTurtle()\n",
        "my_turtle.forward(100) #100픽셀 직진\n",
        "my_turtle.drawSquare() #사각형 그려짐"
      ],
      "metadata": {
        "id": "VFqlKEoBWs91"
      },
      "execution_count": null,
      "outputs": []
    }
  ]
}