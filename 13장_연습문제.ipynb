{
  "nbformat": 4,
  "nbformat_minor": 0,
  "metadata": {
    "colab": {
      "name": "13장 연습문제",
      "provenance": [],
      "authorship_tag": "ABX9TyM8qPzsHoE2IfHapEtieIN8",
      "include_colab_link": true
    },
    "kernelspec": {
      "name": "python3",
      "display_name": "Python 3"
    },
    "language_info": {
      "name": "python"
    }
  },
  "cells": [
    {
      "cell_type": "markdown",
      "metadata": {
        "id": "view-in-github",
        "colab_type": "text"
      },
      "source": [
        "<a href=\"https://colab.research.google.com/github/seoyoons/python/blob/main/13%EC%9E%A5_%EC%97%B0%EC%8A%B5%EB%AC%B8%EC%A0%9C.ipynb\" target=\"_parent\"><img src=\"https://colab.research.google.com/assets/colab-badge.svg\" alt=\"Open In Colab\"/></a>"
      ]
    },
    {
      "cell_type": "code",
      "execution_count": null,
      "metadata": {
        "id": "wVa95Ba0UghB"
      },
      "outputs": [],
      "source": [
        "class Circle:\n",
        "      def __init__(self, radius):\n",
        "            self.radius = radius\n",
        "      \n",
        "      def calcPerimeter(self):\n",
        "            return 2 * 3.141592 * self.radius \n",
        "      \n",
        "      def calcArea(self):\n",
        "            return 3.141592* self.radius*self.radius \n",
        "\n",
        "circle = Circle(100)\n",
        "print(\"반지름: \", circle.radius,\n",
        " \"원의 면적: \", circle.calcArea(),\n",
        " \"원의 둘레: \", circle.calcPerimeter() );"
      ]
    },
    {
      "cell_type": "code",
      "source": [
        "class TV:\n",
        "      def __init__(self):\n",
        "            self.channel=1\n",
        "            self.volume=1\n",
        "            self.on=True\n",
        "\n",
        "      def turnOn(self):\n",
        "            self.on=True\n",
        "            print(\"TV가 켜졌습니다.\")\n",
        "\n",
        "      def turnOff(self):\n",
        "            self.on=False\n",
        "            print(\"TV가 꺼졌습니다.\")\n",
        "  \n",
        "      def setChannel(self, channel):\n",
        "            self.channel=channel\n",
        "\n",
        "      def setVolume(self, volume):\n",
        "            self.volume=volume\n",
        "\n",
        "      def __str__(self):\n",
        "            return \"TV의 채널 : %d TV의 음량 : %d\" % (self.channel, self.volume)\n",
        "\n",
        "a=TV()\n",
        "a.setChannel(11)\n",
        "a.setVolume(6)\n",
        "print(a)"
      ],
      "metadata": {
        "id": "2XOPUAS1U2W8"
      },
      "execution_count": 1,
      "outputs": []
    },
    {
      "cell_type": "code",
      "source": [
        "import turtle\n",
        "\n",
        "lee = turtle.Pen()\n",
        "park = turtle.Pen()\n",
        "\n",
        "lee.shape(\"turtle\")\n",
        "lee.forward(100)\n",
        "lee.right(90)\n",
        "lee.forward(20)\n",
        "lee.left(90)\n",
        "lee.forward(100)\n",
        "\n",
        "park.shape(\"circle\")\n",
        "park.forward(-100)\n",
        "park.right(90)\n",
        "park.forward(-20)\n",
        "park.left(90)\n",
        "park.forward(-100)"
      ],
      "metadata": {
        "id": "2cXq5q4VWnR8"
      },
      "execution_count": null,
      "outputs": []
    },
    {
      "cell_type": "code",
      "source": [
        "import turtle\n",
        "class MyTurtle(turtle.Turtle):\n",
        "      def drawSquare(self):\n",
        "            for i in range(4):\n",
        "                  self.right(90)\n",
        "                  self.forward(100)\n",
        "\n",
        "my_turtle = MyTurtle()\n",
        "my_turtle.forward(100)\n",
        "my_turtle.drawSquare()"
      ],
      "metadata": {
        "id": "VFqlKEoBWs91"
      },
      "execution_count": null,
      "outputs": []
    }
  ]
}