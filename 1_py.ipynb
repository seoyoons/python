{
  "nbformat": 4,
  "nbformat_minor": 0,
  "metadata": {
    "colab": {
      "name": "1.py",
      "provenance": [],
      "authorship_tag": "ABX9TyNH5bSRO6z5SUtMDcUXehAv",
      "include_colab_link": true
    },
    "kernelspec": {
      "name": "python3",
      "display_name": "Python 3"
    },
    "language_info": {
      "name": "python"
    }
  },
  "cells": [
    {
      "cell_type": "markdown",
      "metadata": {
        "id": "view-in-github",
        "colab_type": "text"
      },
      "source": [
        "<a href=\"https://colab.research.google.com/github/seoyoons/python/blob/main/1_py.ipynb\" target=\"_parent\"><img src=\"https://colab.research.google.com/assets/colab-badge.svg\" alt=\"Open In Colab\"/></a>"
      ]
    },
    {
      "cell_type": "code",
      "execution_count": null,
      "metadata": {
        "id": "R2dh4N8AbJ1T"
      },
      "outputs": [],
      "source": [
        "score=int(input(\"점수를 입력하시오.: \"))\n",
        "\n",
        "if score>=90:\n",
        "  print(\"A입니다.\")\n",
        "  \n",
        "elif score>=80:\n",
        "  print(\"B입니다.\")\n",
        "  \n",
        "elif score>=70:\n",
        "  print(\"C입니다.\")\n",
        "  \n",
        "elif score>=60:\n",
        "  print(\"D입니다.\")\n",
        "  \n",
        "else:\n",
        "  print(\"F입니다.\")"
      ]
    }
  ]
}