{
  "nbformat": 4,
  "nbformat_minor": 0,
  "metadata": {
    "colab": {
      "name": "1장 도전문제",
      "provenance": [],
      "collapsed_sections": [],
      "authorship_tag": "ABX9TyMXZg/wc0gKPiyyDckzTQcW",
      "include_colab_link": true
    },
    "kernelspec": {
      "name": "python3",
      "display_name": "Python 3"
    },
    "language_info": {
      "name": "python"
    }
  },
  "cells": [
    {
      "cell_type": "markdown",
      "metadata": {
        "id": "view-in-github",
        "colab_type": "text"
      },
      "source": [
        "<a href=\"https://colab.research.google.com/github/seoyoons/python/blob/main/1%EC%9E%A5_%EB%8F%84%EC%A0%84%EB%AC%B8%EC%A0%9C.ipynb\" target=\"_parent\"><img src=\"https://colab.research.google.com/assets/colab-badge.svg\" alt=\"Open In Colab\"/></a>"
      ]
    },
    {
      "cell_type": "markdown",
      "metadata": {
        "id": "SQIrNDt7eXU8"
      },
      "source": [
        "1번"
      ]
    },
    {
      "cell_type": "code",
      "metadata": {
        "colab": {
          "base_uri": "https://localhost:8080/"
        },
        "id": "7xOyu43LebLS",
        "outputId": "c033d88f-18c9-4f3f-d8f2-7f5a2b6c829c"
      },
      "source": [
        "print(\"안녕하세요?\") # 안녕하세요? 출력\n",
        "print(\"programming에 입문하신 것을 축하드립니다.\" # programming에 입문하신 것을 축하드립니다. 출력"
      ],
      "execution_count": null,
      "outputs": [
        {
          "output_type": "stream",
          "name": "stdout",
          "text": [
            "안녕하세요?\n",
            "programming에 입문하신 것을 축하드립니다.\n"
          ]
        }
      ]
    },
    {
      "cell_type": "markdown",
      "metadata": {
        "id": "CHosBqTSetN6"
      },
      "source": [
        "2번"
      ]
    },
    {
      "cell_type": "code",
      "metadata": {
        "colab": {
          "base_uri": "https://localhost:8080/"
        },
        "id": "wsdfCQfOeuEb",
        "outputId": "b04aa301-889b-48d0-e5f1-f26d2e5ce346"
      },
      "source": [
        "print(2+3) #2 더하기 3\n",
        "print(2-3) #2 빼기 3\n",
        "print(2*3) #2 곱하기 3\n",
        "print(2/3) #2 나누기 3"
      ],
      "execution_count": null,
      "outputs": [
        {
          "output_type": "stream",
          "name": "stdout",
          "text": [
            "5\n",
            "-1\n",
            "6\n",
            "0.6666666666666666\n"
          ]
        }
      ]
    },
    {
      "cell_type": "markdown",
      "metadata": {
        "id": "9q_k-BhDe8-Y"
      },
      "source": [
        "3번"
      ]
    },
    {
      "cell_type": "code",
      "metadata": {
        "colab": {
          "base_uri": "https://localhost:8080/"
        },
        "id": "tG0ZD9coe-Hy",
        "outputId": "eb947fc9-2114-4a9b-a5bb-031ad840c3dd"
      },
      "source": [
        "print(2345*9876-5678)"
      ],
      "execution_count": null,
      "outputs": [
        {
          "output_type": "stream",
          "name": "stdout",
          "text": [
            "23153542\n"
          ]
        }
      ]
    },
    {
      "cell_type": "markdown",
      "metadata": {
        "id": "0MXbWOIFfDd4"
      },
      "source": [
        "4번"
      ]
    },
    {
      "cell_type": "code",
      "metadata": {
        "colab": {
          "base_uri": "https://localhost:8080/"
        },
        "id": "pMnL9_aMfEdB",
        "outputId": "71a688ae-3216-44ad-8e7c-1dec7bfbb50a"
      },
      "source": [
        "print(123456789123456789*123456789123456789) "
      ],
      "execution_count": null,
      "outputs": [
        {
          "output_type": "stream",
          "name": "stdout",
          "text": [
            "15241578780673678515622620750190521\n"
          ]
        }
      ]
    },
    {
      "cell_type": "markdown",
      "metadata": {
        "id": "1Kzv7VR3fNfV"
      },
      "source": [
        "5번"
      ]
    },
    {
      "cell_type": "code",
      "metadata": {
        "colab": {
          "base_uri": "https://localhost:8080/"
        },
        "id": "zbvNjVRbfOl_",
        "outputId": "217aa933-3f4f-42bc-c801-fc37e930a515"
      },
      "source": [
        "print(3.141592*10.0*10.0)\n",
        "print(1/100*1234)"
      ],
      "execution_count": null,
      "outputs": [
        {
          "output_type": "stream",
          "name": "stdout",
          "text": [
            "314.1592\n",
            "12.34\n"
          ]
        }
      ]
    },
    {
      "cell_type": "markdown",
      "metadata": {
        "id": "B5NAW4IGozjv"
      },
      "source": [
        "거북이를 움직여서 정삼각형을 그려보자. 회전하는 각도를 몇 도로 하여야 하는가?"
      ]
    },
    {
      "cell_type": "code",
      "metadata": {
        "id": "hVnVbR4Ro7A2"
      },
      "source": [
        "import turtle #turtle 모듈을 불러옴\n",
        "t = turtle.Turtle() #turtle을 t로 선언\n",
        "t.shape(\"turtle\") #turtle 모듈의 아이콘을 거북이 모양으로 선언\n",
        "t.forward(100)  #100픽셀만큼 직진\n",
        "t.left(120)   #왼쪽으로 120도 회전\n",
        "t.forward(100) \n",
        "t.left(120)\n",
        "t.forward(100)\n",
        "t.left(120)\n",
        "t.exitonclick() \n"
      ],
      "execution_count": null,
      "outputs": []
    },
    {
      "cell_type": "markdown",
      "metadata": {
        "id": "7nKvDIhmp2-v"
      },
      "source": [
        "거북이를 움직여서 정사각형을 그려보자. 회전하는 각도를 몇 도로 하여야 하는가?"
      ]
    },
    {
      "cell_type": "code",
      "metadata": {
        "id": "cApFTSawp8DJ"
      },
      "source": [
        " import turtle #turtle 모듈을 불러옴\n",
        ">>> t = turtle.Turtle() #turtle을 t로 선언\n",
        ">>> t.shape(\"turtle\") #turtle 모듈의 아이콘을 거북이 모양으로 선언\n",
        ">>> t.forward(100) #100픽셀만큼 직진\n",
        ">>> t.left(90)   #왼쪽으로 90도 회전\n",
        ">>> t.forward(100)\n",
        ">>> t.left(90)\n",
        ">>> t.forward(100)\n",
        ">>> t.left(90)\n",
        ">>> t.forward(100)"
      ],
      "execution_count": null,
      "outputs": []
    },
    {
      "cell_type": "markdown",
      "metadata": {
        "id": "2hOg84hrqw98"
      },
      "source": [
        "화살표를 움직여서 6각형을 그려보자. 회전하는 각도를 몇 도로 하여야 하는가?"
      ]
    },
    {
      "cell_type": "code",
      "metadata": {
        "id": "AparxoXUq6m5"
      },
      "source": [
        "import turtle #turtle 모듈을 불러옴\n",
        ">>> t = turtle.Turtle() #turtle을 t로 선언\n",
        ">>> t.shape(\"turtle\") #turtle 모듈의 아이콘을 거북이 모양으로 선언\n",
        ">>> t.forward(100) #100픽셀만큼 직진\n",
        ">>> t.left(60) #왼쪽으로 60도 회전\n",
        ">>> t.forward(100)\n",
        ">>> t.left(60)\n",
        ">>> t.forward(100)\n",
        ">>> t.left(60)\n",
        ">>> t.forward(100)\n",
        ">>> t.left(60)\n",
        ">>> t.forward(100)\n",
        ">>> t.left(60)\n",
        ">>> t.forward(100)"
      ],
      "execution_count": null,
      "outputs": []
    }
  ]
}