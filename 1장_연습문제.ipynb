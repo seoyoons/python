{
  "nbformat": 4,
  "nbformat_minor": 0,
  "metadata": {
    "colab": {
      "name": "1장 연습문제",
      "provenance": [],
      "collapsed_sections": [],
      "authorship_tag": "ABX9TyMujpnBGOfiAaXfoEQvwjjo",
      "include_colab_link": true
    },
    "kernelspec": {
      "name": "python3",
      "display_name": "Python 3"
    },
    "language_info": {
      "name": "python"
    }
  },
  "cells": [
    {
      "cell_type": "markdown",
      "metadata": {
        "id": "view-in-github",
        "colab_type": "text"
      },
      "source": [
        "<a href=\"https://colab.research.google.com/github/seoyoons/python/blob/main/1%EC%9E%A5_%EC%97%B0%EC%8A%B5%EB%AC%B8%EC%A0%9C.ipynb\" target=\"_parent\"><img src=\"https://colab.research.google.com/assets/colab-badge.svg\" alt=\"Open In Colab\"/></a>"
      ]
    },
    {
      "cell_type": "markdown",
      "metadata": {
        "id": "1zO5Ycz2aNIb"
      },
      "source": [
        "1번"
      ]
    },
    {
      "cell_type": "code",
      "metadata": {
        "colab": {
          "base_uri": "https://localhost:8080/"
        },
        "id": "3sWAlnAwaPmI",
        "outputId": "f0d12f9f-eac5-4944-cb08-4c40bf7887b1"
      },
      "source": [
        "print(\"환영합니다.\") #환영합니다. 출력\n",
        "print(\"파이썬의 세계에 오신 것을 환영합니다.\" #파이썬의 세계에 오신 것을 환영합니다. 출력\n",
        "print(\"파이썬은 강력합니다.\") #파이썬은 강력합니다. 출력"
      ],
      "execution_count": null,
      "outputs": [
        {
          "output_type": "stream",
          "name": "stdout",
          "text": [
            "환영합니다.\n",
            "파이썬의 세계에 오신 것을 환영합니다.\n",
            "파이썬은 강력합니다.\n"
          ]
        }
      ]
    },
    {
      "cell_type": "markdown",
      "metadata": {
        "id": "frkOz9PyapwD"
      },
      "source": [
        "2번"
      ]
    },
    {
      "cell_type": "code",
      "metadata": {
        "colab": {
          "base_uri": "https://localhost:8080/"
        },
        "id": "zOjU6sGQaqya",
        "outputId": "6df386ef-dc37-4608-8c49-cefdcabcfeba"
      },
      "source": [
        "print(\"반갑습니다. 파이썬!\") #반갑습니다. 파이썬! 출력\n",
        "print(2*3/10) # 2 곱하기 3 나누기 10\n",
        "print(\"Hello\", \"world\", \"!!!\") #Hello world !!! 출력"
      ],
      "execution_count": null,
      "outputs": [
        {
          "output_type": "stream",
          "name": "stdout",
          "text": [
            "반갑습니다. 파이썬!\n",
            "0.6\n",
            "Hello world !!!\n"
          ]
        }
      ]
    },
    {
      "cell_type": "markdown",
      "metadata": {
        "id": "Df8tdmmSbDAS"
      },
      "source": [
        "3번"
      ]
    },
    {
      "cell_type": "code",
      "metadata": {
        "colab": {
          "base_uri": "https://localhost:8080/"
        },
        "id": "4i2K5qaWbEwi",
        "outputId": "85552654-d4a0-4825-ef1a-06e8c5812e55"
      },
      "source": [
        "print(7*24) # 7곱하기 24 "
      ],
      "execution_count": null,
      "outputs": [
        {
          "output_type": "stream",
          "name": "stdout",
          "text": [
            "168\n"
          ]
        }
      ]
    },
    {
      "cell_type": "markdown",
      "metadata": {
        "id": "8tqqaaGkbVh2"
      },
      "source": [
        "4번 1번째 방법"
      ]
    },
    {
      "cell_type": "code",
      "metadata": {
        "id": "KPMD3Rsldz8p"
      },
      "source": [
        "import turtle #turtle 모듈을 불러옴\n",
        ">>> t = turtle.Turtle() #turtle을 t로 선언 import turtle as t로도 할 수 있다.\n",
        ">>> t.shape(\"turtle\")  # turtle 모듈의 아이콘을 거북이 모양으로 선언\n",
        ">>> t.forward(100); #100픽셀만큼 직진\n",
        ">>> t.left(90) #왼쪽으로 90도 회전\n",
        ">>> t.forward(100)\n",
        ">>> t.right(90) #오른쪽으로 90도 회전\n",
        ">>> t.forward(100);\n",
        ">>> t.right(90)\n",
        ">>> t.forward(100);\n",
        ">>> t.left(90)\n",
        ">>> t.forward(100);"
      ],
      "execution_count": null,
      "outputs": []
    },
    {
      "cell_type": "markdown",
      "metadata": {
        "id": "2NxiRNagd1F7"
      },
      "source": [
        "4번 2번째 방법"
      ]
    },
    {
      "cell_type": "code",
      "metadata": {
        "id": "12A6D0kod3Pa"
      },
      "source": [
        ">>> from turtle import * \n",
        ">>> shape(\"turtle\") #turtle 모듈의 아이콘을 거북이 모양으로 선언\n",
        ">>> forward(100) #100픽셀만큼 직진\n",
        ">>> left(90) #왼쪽으로 90도 회전\n",
        ">>> forward(100)\n",
        ">>> right(90) #오른쪽으로 90도 회전\n",
        ">>> forward(100)\n",
        ">>> right(90)\n",
        ">>> forward(100)\n",
        ">>> left(90)\n",
        ">>> forward(100)\n",
        ">>> write(\"종료하려면 화면클릭\") #화면에 종료하려면 화면클릭 글씨 생성.\n",
        ">>> exitonclick()"
      ],
      "execution_count": null,
      "outputs": []
    },
    {
      "cell_type": "markdown",
      "metadata": {
        "id": "jG8fbB1GfhW9"
      },
      "source": [
        "5번"
      ]
    },
    {
      "cell_type": "code",
      "metadata": {
        "id": "Uj7bOItEfjV2"
      },
      "source": [
        "import turtle # turtle 모듈을 불러옴\n",
        ">>> t = turtle.Turtle() # turtle을 t로 선언 \n",
        ">>> t.shape(\"turtle\") #turtle 모듈의 아이콘을 거북이 모양으로 선언\n",
        ">>> t.width(10) #펜의 두께 10으로 지정\n",
        ">>> t.forward(100) #100픽셀만틈 직진\n",
        ">>> t.left(90) #왼쪽으로 90도 회전\n",
        ">>> t.forward(100)\n",
        ">>> t._screen.exitonclick() "
      ],
      "execution_count": null,
      "outputs": []
    },
    {
      "cell_type": "markdown",
      "metadata": {
        "id": "nrQv6FoWhBmD"
      },
      "source": [
        "6번"
      ]
    },
    {
      "cell_type": "code",
      "metadata": {
        "id": "Cg3sWmH5hC7G"
      },
      "source": [
        "import turtle #turtle 모듈을 불러옴\n",
        ">>> t = turtle.Turtle() #turtle을 t로 선언\n",
        ">>> t.shape(\"turtle\") #turtle 모듈의 아이콘을 거북이 모양으로 선언\n",
        ">>> t.color(\"blue\") #펜의 색을 파란색으로 지정\n",
        ">>> t.forward(100) #100픽셀만큼 직진\n",
        ">>> t._screen.exitonclick()"
      ],
      "execution_count": null,
      "outputs": []
    },
    {
      "cell_type": "markdown",
      "metadata": {
        "id": "jzsLFm1QhyNL"
      },
      "source": [
        "7번"
      ]
    },
    {
      "cell_type": "code",
      "metadata": {
        "id": "I6aMRpuVh1Xv"
      },
      "source": [
        "import turtle #turtle 모듈을 불러옴\n",
        ">>> t = turtle.Turtle() #turtle을 t로 선언\n",
        ">>> t.shape(\"turtle\") #turtle 모듈의 아이콘을 거북이 모양으로 선언\n",
        ">>> t.shape(\"square\") #turtle 모듈의 아이콘을 사각형 모양으로 선언\n",
        ">>> t.forward(100) #100픽셀만큼 직진\n",
        ">>> t._screen.exitonclick()"
      ],
      "execution_count": null,
      "outputs": []
    },
    {
      "cell_type": "markdown",
      "metadata": {
        "id": "Is1ZPK7Fkzgx"
      },
      "source": [
        "8번"
      ]
    },
    {
      "cell_type": "code",
      "metadata": {
        "id": "tkh16URHk1Jn"
      },
      "source": [
        "import turtle\n",
        ">>> t = turtle.Turtle()\n",
        ">>> t.shape(\"turtle\")\n",
        ">>> t.up() #펜이 들려서 선이 그려지지 않는다.\n",
        ">>> t.goto(0, 0) # (0,0)으로 향한다.\n",
        ">>> t.down() #펜을 내려놓아서 선이 그려진다.\n",
        ">>> t.forward(100)\n",
        ">>> \n",
        ">>> t.up()\n",
        ">>> t.goto(0, 100)\n",
        ">>> t.down()\n",
        ">>> t.forward(100)\n",
        ">>> t._screen.exitonclick()"
      ],
      "execution_count": null,
      "outputs": []
    },
    {
      "cell_type": "markdown",
      "metadata": {
        "id": "mwCipQE8k6Qd"
      },
      "source": [
        "9번"
      ]
    },
    {
      "cell_type": "code",
      "metadata": {
        "id": "H2oKZAoUk8mr"
      },
      "source": [
        "import turtle\n",
        ">>> t = turtle.Turtle()\n",
        ">>> t.shape(\"turtle\")\n",
        ">>> \n",
        ">>> t.up(); t.goto(-150,0); t.down(); t.circle(80) #세미콜론의 경우, 하나의 구문이 끝났다는 것을 뜻함.\n",
        ">>> t.up(); t.goto(0, 0); t.down(); t.circle(80) #up은 펜을 들\n",
        ">>> t.up(); t.goto(150,0); t.down(); t.circle(80)\n",
        ">>> t.up(); t.goto(-80, -100); t.down(); t.circle(80)\n",
        ">>> t.up(); t.goto(80,-100); t.down(); t.circle(80)\n",
        ">>> t._screen.exitonclick()"
      ],
      "execution_count": null,
      "outputs": []
    },
    {
      "cell_type": "markdown",
      "metadata": {
        "id": "Bb0Nod74gCsF"
      },
      "source": [
        "10번"
      ]
    },
    {
      "cell_type": "code",
      "metadata": {
        "colab": {
          "base_uri": "https://localhost:8080/"
        },
        "id": "IcBeivcngHNy",
        "outputId": "256f0997-f35a-4efd-dce8-11c8b0d83e70"
      },
      "source": [
        "print(\"강아지\"+\"고양이\") #강아지고양이 출력\n",
        "print('강아지'+'고양이')  #문자열을 사용할 때는 쌍따옴표와 홑따옴표를 사용할 수 있다.\n",
        "print(\"강아지\"*20) #강아지가 20번 출력\n",
        "print(100+200) #100 더하기 300의 값 출력\n",
        "print(\"100\"+\"200\")  #문자열과 문자열이라서 100, 200이 연속으로 나온다."
      ],
      "execution_count": null,
      "outputs": [
        {
          "output_type": "stream",
          "name": "stdout",
          "text": [
            "강아지고양이\n",
            "강아지고양이\n",
            "강아지강아지강아지강아지강아지강아지강아지강아지강아지강아지강아지강아지강아지강아지강아지강아지강아지강아지강아지강아지\n",
            "300\n",
            "100200\n"
          ]
        }
      ]
    },
    {
      "cell_type": "markdown",
      "metadata": {
        "id": "pY81HTTrguY9"
      },
      "source": [
        "11번"
      ]
    },
    {
      "cell_type": "code",
      "metadata": {
        "colab": {
          "base_uri": "https://localhost:8080/"
        },
        "id": "vd7Xt8swgv2H",
        "outputId": "519cd510-7fc3-45bf-c8eb-9aae86a145b0"
      },
      "source": [
        "print(\"안녕하세요? 파이썬에 오신 것을 환영합니다.\")\n",
        "print(\"안녕\"+str(3))  #str의 경우, 문자형으로 변환한다. str뿐만 아니라 \"3\"으로도 가능하다."
      ],
      "execution_count": null,
      "outputs": [
        {
          "output_type": "stream",
          "name": "stdout",
          "text": [
            "안녕하세요? 파이썬에 오신 것을 환영합니다.\n",
            "안녕3\n"
          ]
        }
      ]
    },
    {
      "cell_type": "markdown",
      "metadata": {
        "id": "4JT2MdRzjRHi"
      },
      "source": [
        "12번"
      ]
    },
    {
      "cell_type": "code",
      "metadata": {
        "id": "JRqhY9a-jSP1"
      },
      "source": [
        "import turtle\n",
        ">>> t = turtle.Turtle()\n",
        ">>> t.shape(\"turtle\")\n",
        ">>> t. forward(100)\n",
        ">>> t.left(90)\n",
        ">>> t.forward(50)"
      ],
      "execution_count": null,
      "outputs": []
    },
    {
      "cell_type": "markdown",
      "metadata": {
        "id": "kZ2DHrjTkRFu"
      },
      "source": [
        "13번"
      ]
    },
    {
      "cell_type": "code",
      "metadata": {
        "id": "Z_56pHSSkSvI"
      },
      "source": [
        "import turtle\n",
        ">>> t = turtle.Turtle()\n",
        ">>> t.shape(\"turtle\")\n",
        ">>> \n",
        ">>> t.forward(100)\n",
        ">>> t.left(90)\n",
        ">>> t.forward(50)\n",
        ">>> t.right(90)\n",
        ">>> t.fd(100) #fd는 forward와 동일"
      ],
      "execution_count": null,
      "outputs": []
    },
    {
      "cell_type": "markdown",
      "metadata": {
        "id": "sKwah7h00X1S"
      },
      "source": [
        "14번"
      ]
    },
    {
      "cell_type": "code",
      "metadata": {
        "id": "jgCN93oD0Zfc"
      },
      "source": [
        "from turtle import*\n",
        ">>> shape(\"turtle\")\n",
        ">>> up() #펜을 올림\n",
        ">>> goto(-150,0)\n",
        ">>> down() #펜을 내림\n",
        ">>> circle(80) #반지름이 80인 원이 그려짐\n",
        ">>> \n",
        ">>> up()\n",
        ">>> goto(0,0)\n",
        ">>> down()\n",
        ">>> circle(80)\n",
        ">>> \n",
        ">>> up()\n",
        ">>> goto(150,0)\n",
        ">>> down()\n",
        ">>> circle(80)\n",
        ">>> \n",
        ">>> up()\n",
        ">>> goto(-80, -100)\n",
        ">>> down()\n",
        ">>> circle(80)\n",
        ">>> \n",
        ">>> up()\n",
        ">>> goto(80, -100)\n",
        ">>> down()\n",
        ">>> circle(80)"
      ],
      "execution_count": null,
      "outputs": []
    },
    {
      "cell_type": "markdown",
      "metadata": {
        "id": "uIENNsksbpgJ"
      },
      "source": [
        "오륜기 "
      ]
    },
    {
      "cell_type": "code",
      "metadata": {
        "id": "mcM6S4wLbrPD"
      },
      "source": [
        "import turtle\n",
        ">>> t=turtle.Turtle()\n",
        ">>> t.shape(\"turtle\")\n",
        ">>> t.up()\n",
        ">>> t.color(\"blue\")\n",
        ">>> t.width(15)\n",
        ">>> t.goto(-200,0)\n",
        ">>> t.down()\n",
        ">>> t.circle(100)\n",
        ">>> \n",
        ">>> t.up()\n",
        ">>> t.width(15)\n",
        ">>> t.color(\"black\")\n",
        ">>> t.goto(25,0)\n",
        ">>> t.down()\n",
        ">>> t.circle(100)\n",
        ">>> \n",
        ">>> t.up()\n",
        ">>> t.width(15)\n",
        ">>> t.color(\"red\")\n",
        ">>> t.goto(250,0)\n",
        ">>> t.down()\n",
        ">>> t.circle(100)\n",
        "\n",
        ">>> t.up()\n",
        ">>> t.width(15)\n",
        ">>> t.color(\"yellow\")\n",
        ">>> t.goto(-87.2,-130)\n",
        ">>> t.down()\n",
        ">>> t.circle(100)\n",
        ">>> \n",
        ">>> t.up()\n",
        ">>> t.width(15)\n",
        ">>> t.color(\"green\")\n",
        ">>> t.goto(137.5,-130)\n",
        ">>> t.down()\n",
        ">>> t.circle(100)"
      ],
      "execution_count": null,
      "outputs": []
    }
  ]
}