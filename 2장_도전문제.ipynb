{
  "nbformat": 4,
  "nbformat_minor": 0,
  "metadata": {
    "colab": {
      "name": "2장 도전문제",
      "provenance": [],
      "collapsed_sections": [],
      "authorship_tag": "ABX9TyP6wxTnF/WVwTeAg1hpmHbH",
      "include_colab_link": true
    },
    "kernelspec": {
      "name": "python3",
      "display_name": "Python 3"
    },
    "language_info": {
      "name": "python"
    }
  },
  "cells": [
    {
      "cell_type": "markdown",
      "metadata": {
        "id": "view-in-github",
        "colab_type": "text"
      },
      "source": [
        "<a href=\"https://colab.research.google.com/github/seoyoons/python/blob/main/2%EC%9E%A5_%EB%8F%84%EC%A0%84%EB%AC%B8%EC%A0%9C.ipynb\" target=\"_parent\"><img src=\"https://colab.research.google.com/assets/colab-badge.svg\" alt=\"Open In Colab\"/></a>"
      ]
    },
    {
      "cell_type": "markdown",
      "metadata": {
        "id": "2qN2y2G4r6Is"
      },
      "source": [
        "1번"
      ]
    },
    {
      "cell_type": "code",
      "metadata": {
        "colab": {
          "base_uri": "https://localhost:8080/"
        },
        "id": "SWBZrzczr-Du",
        "outputId": "e3b7bdd9-c8d1-4b19-c4f8-cbddf8c83bf1"
      },
      "source": [
        "x = 7\n",
        "y = 6\n",
        "print(x+y)"
      ],
      "execution_count": null,
      "outputs": [
        {
          "output_type": "stream",
          "name": "stdout",
          "text": [
            "13\n"
          ]
        }
      ]
    },
    {
      "cell_type": "markdown",
      "metadata": {
        "id": "E602NzeSsLtP"
      },
      "source": [
        "2번"
      ]
    },
    {
      "cell_type": "code",
      "metadata": {
        "colab": {
          "base_uri": "https://localhost:8080/"
        },
        "id": "ZAxSR7mVsMr-",
        "outputId": "2f330321-3767-4edb-ad56-786cb9e5983b"
      },
      "source": [
        "x = '7'\n",
        "y = '6'\n",
        "print(x+y)   #문자열(string)을 더해서 출력하는 연산"
      ],
      "execution_count": null,
      "outputs": [
        {
          "output_type": "stream",
          "name": "stdout",
          "text": [
            "76\n"
          ]
        }
      ]
    },
    {
      "cell_type": "markdown",
      "metadata": {
        "id": "Jy_9s9RQslvu"
      },
      "source": [
        "3번"
      ]
    },
    {
      "cell_type": "code",
      "metadata": {
        "id": "Ro3E9_WLsmo2"
      },
      "source": [
        "import turtle #turtle 모듈을 불러온다\n",
        ">>> t = turtle. Turtle() #turtle을 t로 선언\n",
        ">>> t.shape(\"turtle\") #turtle 모듈의 아이콘을 거북이 모양으로 선언\n",
        ">>> radius = 50  #반지름이 50\n",
        ">>> x = 30 #변수 x와 값을 선언\n",
        ">>> t.circle(radius) #반지름이 50인 원을 그린다.\n",
        ">>> t.fd(x)  #fd는 forward와 같은 명령어\n",
        ">>> t.circle(radius) \n",
        ">>> x = 50 #움직이는 거리를 담는 변수 x의 값을 50픽셀로 수정\n",
        ">>> t.fd(x)\n",
        ">>> t.circle(radius)\n",
        ">>> t.exitonclick() #화면을 마우스로 클릭해야 종료되게 하는 부분"
      ],
      "execution_count": null,
      "outputs": []
    },
    {
      "cell_type": "markdown",
      "metadata": {
        "id": "IN1ZMd-yuTKE"
      },
      "source": [
        "사용자로부터 2개의 정수를 받아 사칙연산을 한 후에 결과를 출력"
      ]
    },
    {
      "cell_type": "code",
      "metadata": {
        "colab": {
          "base_uri": "https://localhost:8080/"
        },
        "id": "n2_ULWdFuZq9",
        "outputId": "f04b732c-daa9-4306-b777-86bb3756547c"
      },
      "source": [
        "x = int(input(\"첫 번째 정수를 입력하시오.: \")) #int는 정수형\n",
        "y = int(input(\"두 번째 정수를 입력하시오.: \"))\n",
        "\n",
        "print(x, \"+\", y, \"=\", x+y)\n",
        "print(x, \"-\", y, \"=\", x-y)\n",
        "print(x, \"*\", y, \"=\", x*y)\n",
        "print(x, \"/\", y, \"=\", x/y)"
      ],
      "execution_count": null,
      "outputs": [
        {
          "output_type": "stream",
          "name": "stdout",
          "text": [
            "첫 번째 정수를 입력하시오.: 20\n",
            "두 번째 정수를 입력하시오.: 30\n",
            "20 + 30 = 50\n",
            "20 - 30 = -10\n",
            "20 * 30 = 600\n",
            "20 / 30 = 0.6666666666666666\n"
          ]
        }
      ]
    },
    {
      "cell_type": "markdown",
      "metadata": {
        "id": "jLtvQGYdv9DI"
      },
      "source": [
        "사용자의 이름을 물어보고 이어서 2개의 정수를 받아서 덧셈을 한 후에 결과"
      ]
    },
    {
      "cell_type": "code",
      "metadata": {
        "colab": {
          "base_uri": "https://localhost:8080/"
        },
        "id": "OELyQ6BmyQg4",
        "outputId": "3053e3e7-291c-4b96-bff1-67b4eb1ceba7"
      },
      "source": [
        "name = input(\"이름을 입력하시오.: \")\n",
        "print(name, \" 씨, 안녕하세요?\")\n",
        "print(\"파이썬에 오신 것을 환영합니다.\")\n",
        "x = int(input(\"첫 번째 정수를 입력하시오.: \"))\n",
        "y = int(input(\"두 번째 정수를 입력하시오.: \"))\n",
        "print(x, \"과\", y, \"의 합은\", x+y, \"입니다.\")\n"
      ],
      "execution_count": null,
      "outputs": [
        {
          "output_type": "stream",
          "name": "stdout",
          "text": [
            "이름을 입력하시오.: 이서윤\n",
            "이서윤  씨, 안녕하세요?\n",
            "파이썬에 오신 것을 환영합니다.\n",
            "첫 번째 정수를 입력하시오.: 10\n",
            "두 번째 정수를 입력하시오.: 20\n",
            "10 과 20 의 합은 30 입니다.\n"
          ]
        }
      ]
    }
  ]
}