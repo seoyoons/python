{
  "nbformat": 4,
  "nbformat_minor": 0,
  "metadata": {
    "colab": {
      "name": "3장 연습문제",
      "provenance": [],
      "authorship_tag": "ABX9TyMnaA1tnAr4SJTxrQTc9ZKr",
      "include_colab_link": true
    },
    "kernelspec": {
      "name": "python3",
      "display_name": "Python 3"
    },
    "language_info": {
      "name": "python"
    }
  },
  "cells": [
    {
      "cell_type": "markdown",
      "metadata": {
        "id": "view-in-github",
        "colab_type": "text"
      },
      "source": [
        "<a href=\"https://colab.research.google.com/github/seoyoons/python/blob/main/3%EC%9E%A5_%EC%97%B0%EC%8A%B5%EB%AC%B8%EC%A0%9C.ipynb\" target=\"_parent\"><img src=\"https://colab.research.google.com/assets/colab-badge.svg\" alt=\"Open In Colab\"/></a>"
      ]
    },
    {
      "cell_type": "markdown",
      "metadata": {
        "id": "_9k8hUVRkrGk"
      },
      "source": [
        "1번"
      ]
    },
    {
      "cell_type": "code",
      "metadata": {
        "colab": {
          "base_uri": "https://localhost:8080/"
        },
        "id": "FBwpT30DktY_",
        "outputId": "515ca56b-2dfe-4b39-f25b-e439c4b2119b"
      },
      "source": [
        "x = int(input(\"x: \")) #변수 x를 선언, 정수형으로 받는다.\n",
        "y = int(input(\"y: \")) #변수 y를 선언, 정수형으로 받는다.\n",
        "\n",
        "print(\"두 수의 합: \", x+y) #쌍따옴표는 문자열로 출력\n",
        "print(\"두 수의 차: \", x-y)\n",
        "print(\"두 수의 곱; \", x*y)\n",
        "print(\"두 수의 평균: \", (x+y)/2)\n",
        "print(\"큰수: \", max(x, y))\n",
        "print(\"작은 수: \", min(x, y))"
      ],
      "execution_count": null,
      "outputs": [
        {
          "output_type": "stream",
          "name": "stdout",
          "text": [
            "x: 13\n",
            "y: 15\n",
            "두 수의 합:  28\n",
            "두 수의 차:  -2\n",
            "두 수의 곱;  195\n",
            "두 수의 평균:  14.0\n",
            "큰수:  15\n",
            "작은 수:  13\n"
          ]
        }
      ]
    },
    {
      "cell_type": "markdown",
      "metadata": {
        "id": "-oV2TGzwliq5"
      },
      "source": [
        "2번"
      ]
    },
    {
      "cell_type": "code",
      "metadata": {
        "colab": {
          "base_uri": "https://localhost:8080/"
        },
        "id": "u-rQaq7LlkE6",
        "outputId": "68ee96b5-8332-41b3-c9d6-d2bd9402e228"
      },
      "source": [
        "r = float(input(\"r: \")) #int는 정수로 지정이라면, float은 실수로 지정\n",
        "h = float(input(\"h: \"))\n",
        "vol = 3.141592*r**2*h #**은 제곱 \n",
        "print(\"원기둥의 부피: \", vol)"
      ],
      "execution_count": null,
      "outputs": [
        {
          "output_type": "stream",
          "name": "stdout",
          "text": [
            "r: 12\n",
            "h: 13\n",
            "원기둥의 부피:  5881.060224\n"
          ]
        }
      ]
    },
    {
      "cell_type": "markdown",
      "metadata": {
        "id": "bDElPt1Nl_P4"
      },
      "source": [
        "3번"
      ]
    },
    {
      "cell_type": "code",
      "metadata": {
        "colab": {
          "base_uri": "https://localhost:8080/"
        },
        "id": "CYrXANk1mAS5",
        "outputId": "6af4922b-779a-44d1-fc09-600b21a6662f"
      },
      "source": [
        "number = int(input(\"정수를 입력하시오: \"))\n",
        "\n",
        "sum = 0\n",
        "sum = sum + number % 10    # %는 나머지\n",
        "number = number // 10      # //는 나누기(몫)\n",
        "sum = sum + number % 10\n",
        "number = number // 10\n",
        "sum = sum + number % 10\n",
        "number = number // 10\n",
        "sum = sum + number % 10\n",
        "number = number // 10\n",
        "print(\"자리 수의 합: \", str(sum)) \n"
      ],
      "execution_count": null,
      "outputs": [
        {
          "output_type": "stream",
          "name": "stdout",
          "text": [
            "정수를 입력하시오: 45\n",
            "자리 수의 합:  9\n"
          ]
        }
      ]
    },
    {
      "cell_type": "markdown",
      "metadata": {
        "id": "r1lXWcpAmwhj"
      },
      "source": [
        "4번"
      ]
    },
    {
      "cell_type": "code",
      "metadata": {
        "colab": {
          "base_uri": "https://localhost:8080/"
        },
        "id": "Wez-11mcmxpl",
        "outputId": "7bd575ec-3c72-4d24-ff2d-a299776dc26e"
      },
      "source": [
        "x1=int(input(\"x1: \"))\n",
        "y1=int(input(\"y1: \"))\n",
        "x2=int(input(\"x2: \"))\n",
        "y2=int(input(\"y2: \"))\n",
        "dist = ((x2-x1)**2 + (y2-y1)**2)**0.5 #**은 제곱을 의미\n",
        "print(\"두점 사이의 거리= \", dist)"
      ],
      "execution_count": null,
      "outputs": [
        {
          "output_type": "stream",
          "name": "stdout",
          "text": [
            "x1: 23\n",
            "y1: 34\n",
            "x2: 45\n",
            "y2: 65\n",
            "두점 사이의 거리=  38.01315561749642\n"
          ]
        }
      ]
    },
    {
      "cell_type": "markdown",
      "metadata": {
        "id": "XiX-FQX7nklg"
      },
      "source": [
        "5번"
      ]
    },
    {
      "cell_type": "code",
      "metadata": {
        "id": "EWcnpZeCnl6l"
      },
      "source": [
        "import math\n",
        "x1=int(input(\"x1: \"))\n",
        "y1=int(input(\"y1: \"))\n",
        "x2=int(input(\"x2: \"))\n",
        "y2=int(input(\"y2: \"))\n",
        "\n",
        "dist=math.sqrt((x2-x1)**2 + (y2-y1)**2) #math.sqrt는 제곱근을 의미\n",
        "print(\"두점 사이의 거리=\", dist)\n",
        "\n",
        "import turtle\n",
        "t = turtle.Turtle()\n",
        "t.shape(\"turtle\")\n",
        "\n",
        "t.left(45) #왼쪽으로 45도 회전\n",
        "t.forward(141) #141픽셀만큼 직진\n",
        "t.setheading(0)  #setheading은 바라보는 방향\n",
        "t.goto(0,0)\n",
        "t.forward(100)\n",
        "t.left(90)\n",
        "t.forward(100)\n",
        "t._screen.exitonclick()"
      ],
      "execution_count": null,
      "outputs": []
    },
    {
      "cell_type": "markdown",
      "metadata": {
        "id": "hjtq3QtiopIZ"
      },
      "source": [
        "6번"
      ]
    },
    {
      "cell_type": "code",
      "metadata": {
        "id": "-o4fCMy2os3h"
      },
      "source": [
        "import turtle\n",
        "t = turtle.Turtle() #turtle을 t로 선언\n",
        "t.shape(\"turtle\") #turtle 모듈의 아이콘을 거북이 모양으로 선언\n",
        "\n",
        "x1=int(input(\"x1: \"))\n",
        "y1=int(input(\"y1: \"))\n",
        "x2=int(input(\"x2: \"))\n",
        "y2=int(input(\"y2: \"))\n",
        "\n",
        "dist = ((x1-x2)**2+(y1-y2)**2)**0.5\n",
        "\n",
        "t.up() #펜을 들음\n",
        "t.goto(x1,y1)\n",
        "t.down() #펜을 내림\n",
        "t.goto(x2, y2)\n",
        "t.write(\"점의 길이=\"+str(dist))\n",
        "t._screen.exitonclick()"
      ],
      "execution_count": null,
      "outputs": []
    },
    {
      "cell_type": "markdown",
      "metadata": {
        "id": "4wq5-t_WpUN7"
      },
      "source": [
        "7번"
      ]
    },
    {
      "cell_type": "code",
      "metadata": {
        "id": "P6AoMnp-pVkm",
        "colab": {
          "base_uri": "https://localhost:8080/"
        },
        "outputId": "b4da2886-edd2-472a-df11-849f4dfc30ae"
      },
      "source": [
        "import time \n",
        "fseconds = time.time() #초단위로 시간 설정\n",
        "total_sec = int(fseconds)\n",
        "total_min = total_sec // 60  #//는 나누기(몫)\n",
        "minute = total_min % 60      #%는 나머지\n",
        "total_hour = total_min // 60\n",
        "hour = total_hour % 24\n",
        "\n",
        "print(\"현재 시간(영국 그리니치 시각): \" + str(hour) + \"시\" + str(minute) +\"분\")"
      ],
      "execution_count": 1,
      "outputs": [
        {
          "output_type": "stream",
          "name": "stdout",
          "text": [
            "현재 시간(영국 그리니치 시각): 13시52분\n"
          ]
        }
      ]
    },
    {
      "cell_type": "markdown",
      "metadata": {
        "id": "GcW9TQnmp-hk"
      },
      "source": [
        "8번"
      ]
    },
    {
      "cell_type": "code",
      "metadata": {
        "id": "njSZdimZqAD3"
      },
      "source": [
        "mass = float(input(\"물체의 무게를 입력하시오(킬로그램): \")) #변수 mass를 선언하고, 실수형으로 받는다.\n",
        "velocity = float(input(\"물체의 속도를 입력하시오(미터/초): \")) #변수 velocity를 선언, 실수형으로 받는다.\n",
        "\n",
        "energy = 0.5 * mass * velocity **2\n",
        "print(\"물체는 \" + str(energy) + \"(줄)의 에너지를 가지고 있다.\")"
      ],
      "execution_count": null,
      "outputs": []
    }
  ]
}