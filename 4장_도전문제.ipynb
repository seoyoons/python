{
  "nbformat": 4,
  "nbformat_minor": 0,
  "metadata": {
    "colab": {
      "name": "4장 도전문제",
      "provenance": [],
      "collapsed_sections": [],
      "authorship_tag": "ABX9TyOMgByEDLYuL61Wao044vle",
      "include_colab_link": true
    },
    "kernelspec": {
      "name": "python3",
      "display_name": "Python 3"
    },
    "language_info": {
      "name": "python"
    }
  },
  "cells": [
    {
      "cell_type": "markdown",
      "metadata": {
        "id": "view-in-github",
        "colab_type": "text"
      },
      "source": [
        "<a href=\"https://colab.research.google.com/github/seoyoons/python/blob/main/4%EC%9E%A5_%EB%8F%84%EC%A0%84%EB%AC%B8%EC%A0%9C.ipynb\" target=\"_parent\"><img src=\"https://colab.research.google.com/assets/colab-badge.svg\" alt=\"Open In Colab\"/></a>"
      ]
    },
    {
      "cell_type": "markdown",
      "metadata": {
        "id": "pB89RwGbtU0z"
      },
      "source": [
        "1번"
      ]
    },
    {
      "cell_type": "code",
      "metadata": {
        "id": "0MPVqsM2vDVp"
      },
      "source": [
        "import turtle #turtle 모듈을 불러옴\n",
        "t = turtle.Turtle() #turtle을 t로 선언\n",
        "t.shape(\"turtle\") #turtle 모듈의 아이콘을 거북이 모양으로 선언\n",
        "s = turtle.textinput(\"\", \"이름을 입력하시오.: \") \n",
        "\n",
        "for i in range(4):   #변수를 4번 반복해준다. 콜론의 경우, 다음 줄 들여쓰기\n",
        "  t.write(\"안녕하세요?\" + s + \"씨, 터틀 인사드립니다.\")\n",
        "  t.left(90)\n",
        "  t.forward(100)"
      ],
      "execution_count": null,
      "outputs": []
    },
    {
      "cell_type": "markdown",
      "metadata": {
        "id": "9B3OihuftYUM"
      },
      "source": [
        "2번"
      ]
    },
    {
      "cell_type": "code",
      "metadata": {
        "colab": {
          "base_uri": "https://localhost:8080/"
        },
        "id": "6trZk6s5voWM",
        "outputId": "97899631-c08b-4f56-84d7-87b81187d9ce"
      },
      "source": [
        "print(\"안녕하세요?\")\n",
        "name = input(\"이름이 어떻게 되시나요? \") \n",
        "print(\"만나서 반갑습니다.\" + name + \"씨\") \n",
        "print(\"이름의 길이는 다음과 같군요.:\", end = \"\")  # end = \"\"를 적으면 줄바꾸기를 하지 않음. \n",
        "print(len(name))\n",
        "age = int(input(\"나이가 어떻게 되시나요? \"))\n",
        "print(\"내년이면\", str(age+1), \"이 되시는군요.\") #str 문자열\n",
        "hobby = input(\"취미가 무엇인가요?\")\n",
        "print(\"네 저도\"+hobby+\"좋아합니다.\")"
      ],
      "execution_count": null,
      "outputs": [
        {
          "output_type": "stream",
          "name": "stdout",
          "text": [
            "안녕하세요?\n",
            "이름이 어떻게 되시나요? 이서윤\n",
            "만나서 반갑습니다.이서윤씨\n",
            "이름의 길이는 다음과 같군요.:3\n",
            "나이가 어떻게 되시나요? 20\n",
            "내년이면 21 이 되시는군요.\n",
            "취미가 무엇인가요?노래듣기\n",
            "네 저도노래듣기좋아합니다.\n"
          ]
        }
      ]
    },
    {
      "cell_type": "markdown",
      "metadata": {
        "id": "eaS3GYKBtdRe"
      },
      "source": [
        "3번"
      ]
    },
    {
      "cell_type": "code",
      "metadata": {
        "colab": {
          "base_uri": "https://localhost:8080/"
        },
        "id": "BWYcYgPxwcw1",
        "outputId": "f16be9ab-3b27-4829-cc0e-6266e6693a50"
      },
      "source": [
        "year = input(\"오늘의 연도를 입력하시오: \")\n",
        "month = input(\"오늘의 월을 입려하시오: \")\n",
        "date = input(\"오늘의 일을 입력하시오: \")\n",
        "\n",
        "print(month+\"/\", date+\"/\", year) #쌍따옴표는 문자열"
      ],
      "execution_count": null,
      "outputs": [
        {
          "output_type": "stream",
          "name": "stdout",
          "text": [
            "오늘의 연도를 입력하시오: 2021\n",
            "오늘의 월을 입려하시오: 10\n",
            "오늘의 일을 입력하시오: 24\n",
            "10/ 24/ 2021\n"
          ]
        }
      ]
    },
    {
      "cell_type": "markdown",
      "metadata": {
        "id": "0BGel3LptfuM"
      },
      "source": [
        "4번"
      ]
    },
    {
      "cell_type": "code",
      "metadata": {
        "colab": {
          "base_uri": "https://localhost:8080/"
        },
        "id": "PhaFIFzFw3Ut",
        "outputId": "6aa77516-3ad1-4617-8005-c358c64a0325"
      },
      "source": [
        "import time\n",
        ">>> now = time.time()\n",
        ">>> thisYear = int(1970 + now//(365*24*3600)) #int는 정수형\n",
        ">>> print(\"올해는 \" , thisYear, \"입니다.\")\n",
        "age = int(input(\"몇 살이신지요? \"))\n",
        "print(\"2050년에는 \", (age+2050-thisYear), \"살 이시군요.\")"
      ],
      "execution_count": null,
      "outputs": [
        {
          "output_type": "stream",
          "name": "stdout",
          "text": [
            "올해는  2021 입니다.\n",
            "몇 살이신지요? 20\n",
            "2025년에는  49 살 이시군요.\n"
          ]
        }
      ]
    }
  ]
}