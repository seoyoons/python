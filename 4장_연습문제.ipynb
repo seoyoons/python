{
  "nbformat": 4,
  "nbformat_minor": 0,
  "metadata": {
    "colab": {
      "name": "4장 연습문제",
      "provenance": [],
      "collapsed_sections": [],
      "authorship_tag": "ABX9TyMQ8qgdVPRuT18UqMISVKKl",
      "include_colab_link": true
    },
    "kernelspec": {
      "name": "python3",
      "display_name": "Python 3"
    },
    "language_info": {
      "name": "python"
    }
  },
  "cells": [
    {
      "cell_type": "markdown",
      "metadata": {
        "id": "view-in-github",
        "colab_type": "text"
      },
      "source": [
        "<a href=\"https://colab.research.google.com/github/seoyoons/python/blob/main/4%EC%9E%A5_%EC%97%B0%EC%8A%B5%EB%AC%B8%EC%A0%9C.ipynb\" target=\"_parent\"><img src=\"https://colab.research.google.com/assets/colab-badge.svg\" alt=\"Open In Colab\"/></a>"
      ]
    },
    {
      "cell_type": "markdown",
      "metadata": {
        "id": "0PLgB6jPy6bD"
      },
      "source": [
        "1번"
      ]
    },
    {
      "cell_type": "code",
      "metadata": {
        "id": "O_ulXOqHy9gF"
      },
      "source": [
        "print(\"나는\"+12+\"개의 사과를 먹었다.\") # 문자열과 숫자는 합칠 수 없기 때문에 이 문장은 오류가 발생한다. 숫자를 문자열로 변환한 후에 문자열과 합쳐야 한다."
      ],
      "execution_count": null,
      "outputs": []
    },
    {
      "cell_type": "markdown",
      "metadata": {
        "id": "Yt0mjYNJzct-"
      },
      "source": [
        "2번"
      ]
    },
    {
      "cell_type": "code",
      "metadata": {
        "colab": {
          "base_uri": "https://localhost:8080/"
        },
        "id": "-qRKR6hXzdnq",
        "outputId": "b8d7a1be-7716-4108-bc15-aa4803da8846"
      },
      "source": [
        "print('apple'+'grape')\n",
        "print('apple'*3)"
      ],
      "execution_count": 2,
      "outputs": [
        {
          "output_type": "stream",
          "name": "stdout",
          "text": [
            "applegrape\n",
            "appleappleapple\n"
          ]
        }
      ]
    },
    {
      "cell_type": "markdown",
      "metadata": {
        "id": "SZPGUB54znsJ"
      },
      "source": [
        "3번"
      ]
    },
    {
      "cell_type": "code",
      "metadata": {
        "colab": {
          "base_uri": "https://localhost:8080/"
        },
        "id": "MN6cY2fBzpFt",
        "outputId": "3f40fc74-0902-484f-c8cd-3ad42b37a011"
      },
      "source": [
        "str = input(\"문자열을 입력하시오: \")\n",
        "s = str[0:2]+str[-2:]  #처음 두 글자는 s[0:2]로, 마지막 두 글자는 s[-2:]로 추출 가능.\n",
        "\n",
        "print(s)"
      ],
      "execution_count": 3,
      "outputs": [
        {
          "output_type": "stream",
          "name": "stdout",
          "text": [
            "문자열을 입력하시오: python\n",
            "pyon\n"
          ]
        }
      ]
    },
    {
      "cell_type": "markdown",
      "metadata": {
        "id": "UB6Zu5-K0Pph"
      },
      "source": [
        "4번"
      ]
    },
    {
      "cell_type": "code",
      "metadata": {
        "colab": {
          "base_uri": "https://localhost:8080/"
        },
        "id": "WPy53m1E0Qao",
        "outputId": "a4c98166-8b63-4d66-9848-739c21a81d51"
      },
      "source": [
        "s=input(\"문자열을 입력하시오: \")\n",
        "s += \"하는 중\" # x+=y는 x=x+y의 형태 \n",
        "print(s)"
      ],
      "execution_count": 4,
      "outputs": [
        {
          "output_type": "stream",
          "name": "stdout",
          "text": [
            "문자열을 입력하시오: python\n",
            "python하는 중\n"
          ]
        }
      ]
    },
    {
      "cell_type": "markdown",
      "metadata": {
        "id": "W6BYtr0I1aKh"
      },
      "source": [
        "5번"
      ]
    },
    {
      "cell_type": "code",
      "metadata": {
        "colab": {
          "base_uri": "https://localhost:8080/"
        },
        "id": "7ZJ-IFjL1a5F",
        "outputId": "39da7b4b-bc28-4cd8-aa40-b98f05b37fcc"
      },
      "source": [
        "str=input(\"기호를 입력하시오.: \")\n",
        "word=input(\"중간에 삽입할 문자열을 입력하시오: \")\n",
        "s=str[:1]+word+str[1:] #기호의 첫번째, 단어, 기호의 마지막을 의미\n",
        "print(s)"
      ],
      "execution_count": 5,
      "outputs": [
        {
          "output_type": "stream",
          "name": "stdout",
          "text": [
            "기호를 입력하시오.: []\n",
            "중간에 삽입할 문자열을 입력하시오: python\n",
            "[python]\n"
          ]
        }
      ]
    },
    {
      "cell_type": "markdown",
      "metadata": {
        "id": "D9EuKxOa2Bmd"
      },
      "source": [
        "6번"
      ]
    },
    {
      "cell_type": "code",
      "metadata": {
        "colab": {
          "base_uri": "https://localhost:8080/"
        },
        "id": "tSFyiw6g2CqH",
        "outputId": "60d3706b-d9b5-441a-cd81-86d59f9c463e"
      },
      "source": [
        "lista = [1,2,3,4] #리스트는 대괄호에 자료를 쉼표로 구분해서 입력\n",
        "sum = 0\n",
        "sum = lista[0]+lista[1]+lista[2]+lista[3]\n",
        "print(\"리스트 = \", lista)\n",
        "print(\"리스트 숫자들의 합= \", sum)"
      ],
      "execution_count": 7,
      "outputs": [
        {
          "output_type": "stream",
          "name": "stdout",
          "text": [
            "리스트 =  [1, 2, 3, 4]\n",
            "리스트 숫자들의 합=  10\n"
          ]
        }
      ]
    },
    {
      "cell_type": "markdown",
      "metadata": {
        "id": "ELordGuL25A-"
      },
      "source": [
        "7번"
      ]
    },
    {
      "cell_type": "code",
      "metadata": {
        "id": "OL_jMTdL27Lp"
      },
      "source": [
        "import turtle\n",
        ">>> t=turtle.Turtle()\n",
        ">>> t.shape(\"turtle\")\n",
        ">>> lista=[]\n",
        ">>> color = input(\"색상 #1을 입력하시오.: \") #변수 color를 선언 \n",
        "색상 #1을 입력하시오.: yellow\n",
        ">>> lista.append(color)  #append()함수의 경우, 리스트 뒤에 요소를 추가\n",
        ">>> color = input(\"색상 #2를 입력하시오.: \")\n",
        "색상 #2를 입력하시오.: red\n",
        ">>> lista.append(color)\n",
        ">>> color = input(\"색상 #3을 입력하시오.: \")\n",
        "색상 #3을 입력하시오.: blue\n",
        ">>> lista.append(color)\n",
        ">>> \n",
        ">>> t.fillcolor(lista[0]) #자료의 첫번째 값을 불러온다.\n",
        ">>> t.begin_fill()\n",
        ">>> t.circle(50) #반지름이 50인 원이 그려짐.\n",
        ">>> t.end_fill() #원이 해당 색으로 채워진다.\n",
        ">>> \n",
        ">>> t.up() #펜을 올림\n",
        ">>> t.goto(100,0) \n",
        ">>> t.down() #펜을 내림\n",
        ">>> t.fillcolor(lista[1]) #자료의 두번째 값을 불러온다.\n",
        ">>> t.begin_fill()\n",
        ">>> t.circle(50)\n",
        ">>> t.end_fill()\n",
        ">>> \n",
        ">>> t.up()\n",
        ">>> t.goto(200,0)\n",
        ">>> t.down()\n",
        ">>> t.fillcolor(lista[2]) #자료의 세번째 값을 불러온다.\n",
        ">>> t.begin_fill()\n",
        ">>> t.circle(50)\n",
        ">>> t.end_fill()\n",
        ">>> t._screen.exitonclick()"
      ],
      "execution_count": null,
      "outputs": []
    },
    {
      "cell_type": "code",
      "metadata": {
        "id": "MXM5MizV6RFX"
      },
      "source": [
        "from turtle import *\n",
        ">>> shape(\"turtle\")\n",
        ">>> lista = []; color=input(\"색상 #1을 입력하시오: \")\n",
        "색상 #1을 입력하시오: yellow\n",
        ">>> lista.append(color); color=input(\"색상 #2를 입력하시오: \")\n",
        "색상 #2를 입력하시오: red\n",
        ">>> lista.append(color); color=input(\"색상 #3을 입력하시오: \")\n",
        "색상 #3을 입력하시오: blue\n",
        ">>> lista.append(color)\n",
        ">>> fillcolor(lista[0]); begin_fill(); circle(50); end_fill()\n",
        ">>> up(); goto(100,0); down(); fillcolor(lista[1]); begin_fill(); circle(50); end_fill()\n",
        ">>> up(); goto(200,0); down(); fillcolor(lista[2]); begin_fill(); circle(50); end_fill()\n",
        ">>> write(\"닫으려면 화면 클릭\"); exitonclick()"
      ],
      "execution_count": null,
      "outputs": []
    },
    {
      "cell_type": "markdown",
      "metadata": {
        "id": "vUUFYhKj6SGQ"
      },
      "source": [
        "8번"
      ]
    },
    {
      "cell_type": "code",
      "metadata": {
        "id": "uTSVbwxB6VM8"
      },
      "source": [
        "import turtle\n",
        ">>> t=turtle.Turtle()\n",
        ">>> t.shape(\"turtle\")\n",
        ">>> lista=[]\n",
        ">>> lista.append(int(input(\"x1: \")))\n",
        "x1: 0\n",
        ">>> lista.append(int(input(\"y1: \")))\n",
        "y1: 0\n",
        ">>> lista.append(int(input(\"x2: \")))\n",
        "x2: 100\n",
        ">>> lista.append(int(input(\"y2: \")))\n",
        "y2: 100\n",
        ">>> lista.append(int(input(\"x3: \")))\n",
        "x3: 200\n",
        ">>> lista.append(int(input(\"y3: \")))\n",
        "y3: 100\n",
        ">>> t.goto(lista[0], lista[1])\n",
        ">>> t.goto(lista[2], lista[3])\n",
        ">>> t.goto(lista[4], lista[5])\n",
        ">>> t._screen.exitonclick()"
      ],
      "execution_count": null,
      "outputs": []
    },
    {
      "cell_type": "code",
      "metadata": {
        "id": "VwhsWNij753U"
      },
      "source": [
        "from turtle import *  #또 다른 방식의 문장\n",
        "shape(\"turtle\")\n",
        ">>> lista = []\n",
        ">>> lista.append(int(input(\"x1: \")))\n",
        "x1: 0\n",
        ">>> lista.append(int(input(\"y1: \")))\n",
        "y1: 0\n",
        ">>> lista.append(int(input(\"x2: \")))\n",
        "x2: 100\n",
        ">>> lista.append(int(input(\"y2: \")))\n",
        "y2: 100\n",
        ">>> lista.append(int(input(\"x3: \")))\n",
        "x3: 200\n",
        ">>> lista.append(int(input(\"y3: \")))\n",
        "y3: 100\n",
        ">>> \n",
        ">>> goto(lista[0], lista[1])\n",
        ">>> goto(lista[2], lista[3])\n",
        ">>> goto(lista[4], lista[5])\n",
        ">>> write(\"닫으려면 화면 클릭\")\n",
        ">>> exitonclick()\n"
      ],
      "execution_count": null,
      "outputs": []
    }
  ]
}