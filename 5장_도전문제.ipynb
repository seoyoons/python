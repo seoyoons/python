{
  "nbformat": 4,
  "nbformat_minor": 0,
  "metadata": {
    "colab": {
      "name": "5장 도전문제",
      "provenance": [],
      "collapsed_sections": [],
      "authorship_tag": "ABX9TyP6rABWNXWETppH55rITDj9",
      "include_colab_link": true
    },
    "kernelspec": {
      "name": "python3",
      "display_name": "Python 3"
    },
    "language_info": {
      "name": "python"
    }
  },
  "cells": [
    {
      "cell_type": "markdown",
      "metadata": {
        "id": "view-in-github",
        "colab_type": "text"
      },
      "source": [
        "<a href=\"https://colab.research.google.com/github/seoyoons/python/blob/main/5%EC%9E%A5_%EB%8F%84%EC%A0%84%EB%AC%B8%EC%A0%9C.ipynb\" target=\"_parent\"><img src=\"https://colab.research.google.com/assets/colab-badge.svg\" alt=\"Open In Colab\"/></a>"
      ]
    },
    {
      "cell_type": "markdown",
      "metadata": {
        "id": "heB365UMB-5O"
      },
      "source": [
        "1번"
      ]
    },
    {
      "cell_type": "code",
      "metadata": {
        "colab": {
          "base_uri": "https://localhost:8080/"
        },
        "id": "FBAukuIDC3Zh",
        "outputId": "6a0cfafd-83fe-4645-d688-e44c5b6915c7"
      },
      "source": [
        "age = int(input(\"나이를 입력하시오.: \"))\n",
        "if age >= 15: #나이가 15살이상이면\n",
        "  print(\"이 영화를 보실 수 있습니다. 영화의 가격은 10000원입니다.\") #해당 문장 출력\n",
        "else: #나이가 15살 미만이면\n",
        "  print(\"이 영화를 보실 수 없습니다. 다른 영화를 보시겠어요?\") #해당 문장 출력"
      ],
      "execution_count": null,
      "outputs": [
        {
          "output_type": "stream",
          "name": "stdout",
          "text": [
            "나이를 입력하시오.: 15\n",
            "이 영화를 보실 수 있습니다. 영화의 가격은 10000원입니다.\n"
          ]
        }
      ]
    },
    {
      "cell_type": "markdown",
      "metadata": {
        "id": "XFo2-CVsE_kE"
      },
      "source": [
        "2번"
      ]
    },
    {
      "cell_type": "code",
      "metadata": {
        "id": "fmfFLN92GCHg"
      },
      "source": [
        "import turtle #turtle 모듈 불러옴\n",
        ">>> t=turtle.Turtle() #turtle을 변수 t로 선언\n",
        ">>> t.width(3) #거북이가 그리는 선의 두께를 3으로 한다.\n",
        ">>> t.shape(\"turtle\") #커서의 모양을 거북이로 한다.\n",
        ">>> t.shapesize(3,3) #거북이를 3배 확대한다.\n",
        ">>> \n",
        ">>> while answer:\n",
        "\tcommand = input(\"명령을 입력하시오: \")\n",
        "\tif command == \"l\" or command == \"left\": #l or left 입력\n",
        "\t\tt.left(90)\n",
        "\t\tt.forward(100)\n",
        "\tif command == \"r\" or command == \"right\": #r or right 입력\n",
        "\t\tt.right(90)\n",
        "\t\tt.forward(100)"
      ],
      "execution_count": null,
      "outputs": []
    },
    {
      "cell_type": "markdown",
      "metadata": {
        "id": "FnEasrNYGDWK"
      },
      "source": [
        "3번"
      ]
    },
    {
      "cell_type": "code",
      "metadata": {
        "id": "pgjn7znpGFRd"
      },
      "source": [
        "import turtle\n",
        "t=turtle.Turtle()\n",
        "t.shape(\"turtle\")\n",
        "t.width(3)\n",
        "t.shapesize(3,3) \n",
        "flag = True\n",
        "while flag:\n",
        "\tcommand = input(\"명령을 입력하시오: \")\n",
        "\tif command == \"l\" or command == \"left\":  #l or left 입력\n",
        "\t\tt.left(90)\n",
        "\t\tt.forward(100)\n",
        "\tif command == \"r\" or command == \"right\": #r or right 입력\n",
        "\t\tt.right(90)\n",
        "\t\tt.forward(100)\n",
        "\tif command == \"q\" or command == \"quit\":  #q or quit 입력\n",
        "\t\tflag = False"
      ],
      "execution_count": null,
      "outputs": []
    },
    {
      "cell_type": "markdown",
      "metadata": {
        "id": "cLg7rbzPHsim"
      },
      "source": [
        "4번"
      ]
    },
    {
      "cell_type": "code",
      "metadata": {
        "colab": {
          "base_uri": "https://localhost:8080/"
        },
        "id": "bvDOe0C1HtaU",
        "outputId": "6ced6782-8798-4baf-da51-f103aeaeb6ba"
      },
      "source": [
        "import random\n",
        "print(\"주사위 던지기 게임을 시작합니다.\")\n",
        "dice = random.randrange(6)+1\n",
        "print(\"주사위 눈은\"+str(dice)+\"입니다.\") #str은 문자열로 변환\n",
        "print(\"게임이 종료되었습니다.\")"
      ],
      "execution_count": null,
      "outputs": [
        {
          "output_type": "stream",
          "name": "stdout",
          "text": [
            "주사위 던지기 게임을 시작합니다.\n",
            "주사위 눈은6입니다.\n",
            "게임이 종료되었습니다.\n"
          ]
        }
      ]
    },
    {
      "cell_type": "markdown",
      "metadata": {
        "id": "0G1ftcAhISdo"
      },
      "source": [
        "5번"
      ]
    },
    {
      "cell_type": "code",
      "metadata": {
        "colab": {
          "base_uri": "https://localhost:8080/"
        },
        "id": "BtqrZRqVITcx",
        "outputId": "def492d1-719b-48f6-f630-f977bdf88554"
      },
      "source": [
        "import random\n",
        "time = random.randint(1,24)\n",
        "print(\"좋은 아침입니다. 지금 시각은\"+str(time)+\"시 입니다.\")\n",
        "if time >= 6 and time <9 and True:\n",
        "  print(\"종달새가 노래를 한다.\")\n",
        "else:\n",
        "  print(\"종달새가 노래를 하지 않는다.\")"
      ],
      "execution_count": null,
      "outputs": [
        {
          "output_type": "stream",
          "name": "stdout",
          "text": [
            "좋은 아침입니다. 지금 시각은3시 입니다.\n",
            "종달새가 노래를 하지 않는다.\n"
          ]
        }
      ]
    },
    {
      "cell_type": "markdown",
      "metadata": {
        "id": "FLnYPUuXI6Q-"
      },
      "source": [
        "6번"
      ]
    },
    {
      "cell_type": "code",
      "metadata": {
        "colab": {
          "base_uri": "https://localhost:8080/"
        },
        "id": "ZC2p4orgI7E_",
        "outputId": "acec2f32-6413-4908-9834-7c4faa95879c"
      },
      "source": [
        "id = \"ilovepython\"\n",
        "pw = \"123456\"\n",
        "s = input(\"아이디를 입력하시오: \")\n",
        "if s == id: # s와 id가 같으면\n",
        "  p = input(\"패스워드를 입력하시오: \")\n",
        "  if p == pw:\n",
        "    print(\"환영합니다.\")\n",
        "  else:\n",
        "      print(\"비밀번호가 잘못되었습니다.\")\n",
        "\n",
        "else:\n",
        "  print(\"아이디를 찾을 수 없습니다.\")"
      ],
      "execution_count": null,
      "outputs": [
        {
          "output_type": "stream",
          "name": "stdout",
          "text": [
            "아이디를 입력하시오: ilovepython\n",
            "패스워드를 입력하시오: 123456\n",
            "환영합니다.\n"
          ]
        }
      ]
    },
    {
      "cell_type": "markdown",
      "metadata": {
        "id": "mRT658JvJsH9"
      },
      "source": [
        "7번"
      ]
    },
    {
      "cell_type": "code",
      "metadata": {
        "colab": {
          "base_uri": "https://localhost:8080/"
        },
        "id": "d9O-4iIEJwNx",
        "outputId": "435cd251-422e-4613-c21e-159d4654af15"
      },
      "source": [
        "import random\n",
        "options = [\"왼쪽 상단\", \"왼쪽 하단\", \"중앙\", \"오른쪽 상단\", \"오른쪽 하단\"]\n",
        "computer_choice = random.choice(options) #컴퓨터가 랜덤으로 선택\n",
        "user_choice = input(\"어디를 수비하시겠어요?(왼쪽 상단, 왼쪽 하단, 중앙, 오른쪽 상단, 오른쪽 하단)\")\n",
        "if computer_choice == user_choice: #컴퓨터의 선택과 유저의 선택이 동일하다면\n",
        "  print(\"수비에 성공하셨습니다.\") #해당 문장 출력\n",
        "else: #그렇지 않다면\n",
        "  print(\"페널티 킥이 성공하였습니다.\")"
      ],
      "execution_count": null,
      "outputs": [
        {
          "output_type": "stream",
          "name": "stdout",
          "text": [
            "어디를 수비하시겠어요?(왼쪽 상단, 왼쪽 하단, 중앙, 오른쪽 상단, 오른쪽 하단)오른쪽 상단\n",
            "수비에 성공하셨습니다.\n"
          ]
        }
      ]
    },
    {
      "cell_type": "markdown",
      "metadata": {
        "id": "7bxm_IbTKjNP"
      },
      "source": [
        "8번"
      ]
    },
    {
      "cell_type": "code",
      "metadata": {
        "id": "NAG47WdSKkS5"
      },
      "source": [
        "import turtle\n",
        "t = turtle.Turtle()\n",
        "t.shape(\"turtle\")\n",
        "\n",
        "s = turtle.textinput(\"\",\"도형을 입력하시오.: \")\n",
        "if s == \"사각형\":\n",
        "  s = turtle.textinput(\"\",\"가로: \")\n",
        "  w = int(s)\n",
        "  s = turtle.textinput(\"\", \"세로: \")\n",
        "  h = int(s)\n",
        "  t.forward(w)\n",
        "  t.left(90)\n",
        "  t.forward(h)\n",
        "  t.left(90)\n",
        "  t.forward(w)\n",
        "  t.left(90)\n",
        "  t.forward(h)\n",
        "elif s == \"삼각형\":\n",
        "  s = turtle.textinput(\"\", \"변: \")\n",
        "  l = int(s)\n",
        "  t.forward(l)\n",
        "  t.left(120)\n",
        "  t.forward(l)\n",
        "  t.left(120)\n",
        "  t.forward(l)\n",
        "elif s == \"원\":\n",
        "  s = turtle.textinput(\"\", \"반지름: \")\n",
        "  r = int(s)\n",
        "  t.circle(r)\n",
        "else:\n",
        "  pass\n"
      ],
      "execution_count": null,
      "outputs": []
    }
  ]
}