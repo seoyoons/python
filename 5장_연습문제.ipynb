{
  "nbformat": 4,
  "nbformat_minor": 0,
  "metadata": {
    "colab": {
      "name": "5장 연습문제",
      "provenance": [],
      "collapsed_sections": [],
      "authorship_tag": "ABX9TyNz3E0n2mBXNJMmOafrVm1u",
      "include_colab_link": true
    },
    "kernelspec": {
      "name": "python3",
      "display_name": "Python 3"
    },
    "language_info": {
      "name": "python"
    }
  },
  "cells": [
    {
      "cell_type": "markdown",
      "metadata": {
        "id": "view-in-github",
        "colab_type": "text"
      },
      "source": [
        "<a href=\"https://colab.research.google.com/github/seoyoons/python/blob/main/5%EC%9E%A5_%EC%97%B0%EC%8A%B5%EB%AC%B8%EC%A0%9C.ipynb\" target=\"_parent\"><img src=\"https://colab.research.google.com/assets/colab-badge.svg\" alt=\"Open In Colab\"/></a>"
      ]
    },
    {
      "cell_type": "markdown",
      "metadata": {
        "id": "Uja277M8NP0E"
      },
      "source": [
        "1번"
      ]
    },
    {
      "cell_type": "code",
      "metadata": {
        "colab": {
          "base_uri": "https://localhost:8080/"
        },
        "id": "R4FEiGE7NQ0A",
        "outputId": "fd47444c-0378-40cf-fb20-e70cb58ac8cc"
      },
      "source": [
        "age = 20\n",
        "if age<20: #만약 나이가 20살 미만이면\n",
        "  print('20살 미만')#해당 문장 출력\n",
        "else: #그렇지 않으면\n",
        "  print('20살 이상') #해당 문장 출력"
      ],
      "execution_count": null,
      "outputs": [
        {
          "output_type": "stream",
          "name": "stdout",
          "text": [
            "20살 이상\n"
          ]
        }
      ]
    },
    {
      "cell_type": "markdown",
      "metadata": {
        "id": "3zSyHbp9OBKH"
      },
      "source": [
        "2번"
      ]
    },
    {
      "cell_type": "code",
      "metadata": {
        "id": "wMOaE3t7OCCO"
      },
      "source": [
        "age = 20\n",
        "if age >=30 and age <=50:\n",
        "  print(\"30살 이상이고 50살 이하\")"
      ],
      "execution_count": null,
      "outputs": []
    },
    {
      "cell_type": "markdown",
      "metadata": {
        "id": "FlHk4LVgOYa-"
      },
      "source": [
        "3번"
      ]
    },
    {
      "cell_type": "code",
      "metadata": {
        "colab": {
          "base_uri": "https://localhost:8080/"
        },
        "id": "B8MaSS-POZLQ",
        "outputId": "293e48a9-804d-411e-b36f-651a58890bfa"
      },
      "source": [
        "temp = int(input(\"현재 온도를 입력하시오: \")) \n",
        "\n",
        "if temp >=25: #25도 이상이면 \n",
        "  print(\"반바지를 입으세요\") #해당 문장 출력\n",
        "else: #그렇지 않으면\n",
        "  print(\"긴바지를 입으세요\") #해당 문장 출력"
      ],
      "execution_count": null,
      "outputs": [
        {
          "output_type": "stream",
          "name": "stdout",
          "text": [
            "현재 온도를 입력하시오: 13\n",
            "긴바지를 입으세요\n"
          ]
        }
      ]
    },
    {
      "cell_type": "markdown",
      "metadata": {
        "id": "qCb04Yf8Orzh"
      },
      "source": [
        "4번"
      ]
    },
    {
      "cell_type": "code",
      "metadata": {
        "colab": {
          "base_uri": "https://localhost:8080/"
        },
        "id": "HfEg9YfGOs27",
        "outputId": "d3593965-1619-4f42-de57-ab7b6913923f"
      },
      "source": [
        "score = int(input(\"성적을 입력하시오: \"))\n",
        "if score >= 90: #90점 이상이면\n",
        "  print(\"A학점입니다.\")\n",
        "elif score >= 80: #80점 이상이외\n",
        "  print(\"B학점입니다.\")\n",
        "elif score >= 70: #70점 이상이면\n",
        "  print(\"C학점입니다.\")\n",
        "elif score >= 60: #60점 이상이면\n",
        "  print(\"D학점입니다.\")\n",
        "else : #그 외\n",
        "  print(\"F학점입니다.\")"
      ],
      "execution_count": null,
      "outputs": [
        {
          "output_type": "stream",
          "name": "stdout",
          "text": [
            "성적을 입력하시오: 91\n",
            "A학점입니다.\n"
          ]
        }
      ]
    },
    {
      "cell_type": "markdown",
      "metadata": {
        "id": "yYY8juwOPiA2"
      },
      "source": [
        "5번"
      ]
    },
    {
      "cell_type": "code",
      "metadata": {
        "colab": {
          "base_uri": "https://localhost:8080/"
        },
        "id": "pRMoPFB5PjvQ",
        "outputId": "3db8bc31-3f89-4536-937f-0db41af95b1d"
      },
      "source": [
        "import random\n",
        "x = random.randint(1,100)\n",
        "y = random.randint(1,100)\n",
        "\n",
        "ans = int(input(str(x)+\"-\"+str(y)+\"=\"))  #str은 숫자에서 문자열로 변환, ans는 answer\n",
        "if ans == x-y: #==는 같다는 표시\n",
        "  print(\"맞았습니다.\")\n",
        "else:\n",
        "  print(\"틀렸습니다.\")"
      ],
      "execution_count": null,
      "outputs": [
        {
          "output_type": "stream",
          "name": "stdout",
          "text": [
            "28-29=-1\n",
            "맞았습니다.\n"
          ]
        }
      ]
    },
    {
      "cell_type": "markdown",
      "metadata": {
        "id": "Bs5mYgjXQFMH"
      },
      "source": [
        "6번"
      ]
    },
    {
      "cell_type": "code",
      "metadata": {
        "colab": {
          "base_uri": "https://localhost:8080/"
        },
        "id": "I1xkZCu9QNR4",
        "outputId": "b534496c-dd5e-47a1-dc0a-dc407567fb0e"
      },
      "source": [
        "n = int(input(\"정수를 입력하시오: \"))\n",
        "if n%2==0 and n%3==0:  #%는 나머지, ==는 같다는 표시\n",
        "  print(\"2와 3으로 나누어 떨어집니다.\")\n",
        "else:\n",
        "  print(\"2와 3으로 나누어 떨어지지 않습니다.\")"
      ],
      "execution_count": null,
      "outputs": [
        {
          "output_type": "stream",
          "name": "stdout",
          "text": [
            "정수를 입력하시오: 33\n",
            "2와 3으로 나누어 떨어지지 않습니다.\n"
          ]
        }
      ]
    },
    {
      "cell_type": "markdown",
      "metadata": {
        "id": "juGZoklgQlR0"
      },
      "source": [
        "7번"
      ]
    },
    {
      "cell_type": "code",
      "metadata": {
        "colab": {
          "base_uri": "https://localhost:8080/"
        },
        "id": "GPnYMGOeQmkm",
        "outputId": "063708eb-a54f-4d30-f484-0ca5f7b6480c"
      },
      "source": [
        "import random\n",
        "solution = random.randint(0,99)\n",
        "user = int(input(\"복권번호를 입력하시오(0에서 99사이): \"))\n",
        "\n",
        "digit1=solution // 10\n",
        "digit2=solution % 10\n",
        "\n",
        "u_digit1 = user // 10\n",
        "u_digit2 = user % 10\n",
        "\n",
        "print(\"당첨번호는\", solution, \"입니다.\")\n",
        "if (digit1==u_digit1 and digit2 == u_digit2): #랜덤 숫자의 계산 값 2개와 입력한 숫자의 계산 값 2개가 동일하면\n",
        "  print(\"상금은 100만원입니다.\") #해당 문장 출력 (100만원)\n",
        "elif (digit1==u_digit1 \n",
        "  or digit1 == u_digit2\n",
        "  or digit2 == u_digit1\n",
        "  or digit2 == u_digit2): #랜덤 숫자 계산 값 중 1개와 입력한 숫자 계산 값 중 1개가 동일하면\n",
        "  print(\"상금은 50만원 입니다.\") #해당 문장 출력 (50만원)\n",
        "else: #그 외\n",
        "  print(\"상금은 없습니다.\")"
      ],
      "execution_count": null,
      "outputs": [
        {
          "output_type": "stream",
          "name": "stdout",
          "text": [
            "복권번호를 입력하시오(0에서 99사이): 35\n",
            "당첨번호는 35 입니다.\n",
            "상금은 100만원입니다.\n"
          ]
        }
      ]
    },
    {
      "cell_type": "markdown",
      "metadata": {
        "id": "VZE-zMccR-8I"
      },
      "source": [
        "8번"
      ]
    },
    {
      "cell_type": "code",
      "metadata": {
        "id": "7QFZb4KPSJqC"
      },
      "source": [
        "import turtle\n",
        "t = turtle.Turtle()\n",
        "t.shape(\"turtle\")\n",
        "x1=int(input(\"큰 원의 중심좌표 x1: \"))\n",
        "y1=int(input(\"큰 원의 중심좌표 y1: \"))\n",
        "r1=int(input(\"큰 원의 반지름: \"))\n",
        "x2=int(input(\"작은 원의 중심좌표 x2: \"))\n",
        "y2=int(input(\"작은 원의 중심좌표 y2: \"))\n",
        "r2=int(input(\"작은 원의 반지름: \"))\n",
        "\n",
        "t.penup() #펜을 올림(작성이 되지 않음)\n",
        "t.goto(x1, y1)\n",
        "t.pendown() #펜을 내림(작성이 됨)\n",
        "t.circle(r1)\n",
        "\n",
        "t.penup()\n",
        "t.goto(x2, y2)\n",
        "t.pendown()\n",
        "t.circle(r2)\n",
        "\n",
        "dist = ((x1-x2) * (x1-x2)+(y1-y2) * (y1-y2) * (y1-y2)**0.5\n",
        "if dist <= r1-r2: #dist가 r1-r2보다 작거나 같으면\n",
        "  turtle.write(\"두 번째 원이 첫번째 원의 내부에 있습니다.\")\n",
        "elif dist <= r1+r2: #dist가 r1+r2보다 작거나 같으면\n",
        "  turtle.write(\"두 번째 원이 첫번째 원과 겹칩니다.\")\n",
        "else: #그렇지 않은 경우, 그 외의 경우\n",
        "  turtle.write(\"두 번째 원이 첫번째 원과 겹치지 않습니다.\")\n",
        "t._screen.exitonclick()\n"
      ],
      "execution_count": null,
      "outputs": []
    },
    {
      "cell_type": "code",
      "metadata": {
        "id": "KXFCTF9VSK8Y"
      },
      "source": [
        "from turtle import *\n",
        "t.shape(\"turtle\")\n",
        "x1=int(input(\"큰 원의 중심좌표 x1: \"))\n",
        "y1=int(input(\"큰 원의 중심좌표 y1: \"))\n",
        "r1=int(input(\"큰 원의 반지름: \"))\n",
        "x2=int(input(\"작은 원의 중심좌표 x2: \"))\n",
        "y2=int(input(\"작은 원의 중심좌표 y2: \"))\n",
        "r2=int(input(\"작은 원의 반지름: \"))\n",
        "\n",
        "t.penup()\n",
        "t.goto(x1, y1)\n",
        "t.pendown()\n",
        "t.circle(r1)\n",
        "\n",
        "t.penup()\n",
        "t.goto(x2, y2)\n",
        "t.pendown()\n",
        "t.circle(r2)\n",
        "\n",
        "dist = ((x1-x2) * (x1-x2)+(y1-y2) * (y1-y2) * (y1-y2)**0.5\n",
        "if dist <= r1-r2:\n",
        "  write(\"두 번째 원이 첫번째 원의 내부에 있습니다.\")\n",
        "elif dist <= r1+r2:\n",
        "  write(\"두 번째 원이 첫번째 원과 겹칩니다.\")\n",
        "else:\n",
        "  write(\"두 번째 원이 첫번째 원과 겹치지 않습니다.\")\n",
        "exitonclick()"
      ],
      "execution_count": null,
      "outputs": []
    }
  ]
}