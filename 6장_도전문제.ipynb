{
  "nbformat": 4,
  "nbformat_minor": 0,
  "metadata": {
    "colab": {
      "name": "6장 도전문제",
      "provenance": [],
      "authorship_tag": "ABX9TyOHo1iIvBZd4mbJi59PTdkm",
      "include_colab_link": true
    },
    "kernelspec": {
      "name": "python3",
      "display_name": "Python 3"
    },
    "language_info": {
      "name": "python"
    }
  },
  "cells": [
    {
      "cell_type": "markdown",
      "metadata": {
        "id": "view-in-github",
        "colab_type": "text"
      },
      "source": [
        "<a href=\"https://colab.research.google.com/github/seoyoons/python/blob/main/6%EC%9E%A5_%EB%8F%84%EC%A0%84%EB%AC%B8%EC%A0%9C.ipynb\" target=\"_parent\"><img src=\"https://colab.research.google.com/assets/colab-badge.svg\" alt=\"Open In Colab\"/></a>"
      ]
    },
    {
      "cell_type": "code",
      "source": [
        "import turtle #turtle 모듈 불러오기\n",
        "t=turtle.Turtle() #turtle을 t로 선언\n",
        "t.shape(\"turtle\") #아이콘을 거북이 모양으로 선언\n",
        "\n",
        "for i in range(6): #6번 반복\n",
        "\tt.forward(100) #100만큼 직진\n",
        "\tt.left(360/6) #왼쪽으로 60도 회전"
      ],
      "metadata": {
        "id": "0PcGSx72UjdD"
      },
      "execution_count": null,
      "outputs": []
    },
    {
      "cell_type": "code",
      "source": [
        "import turtle\n",
        "t=turtle.Turtle()\n",
        "t.shape(\"turtle\")\n",
        "\n",
        "s=turtle.textinput(\"\",\"몇각형을 원하시나요?: \") #입력 창 생성\n",
        "n=int(s) \n",
        "s=turtle.textinput(\"\", 한변의 크기를 입력해주세요: \") \n",
        "len=int(s) \n",
        "for i in range(n): #n번 반복\n",
        "\tt.forward(len) #입력한 길이만큼 직진\n",
        "\tt.left(360/n) #360/n도 만큼 왼쪽으로 회전"
      ],
      "metadata": {
        "id": "oQfaALUMUmJk"
      },
      "execution_count": null,
      "outputs": []
    },
    {
      "cell_type": "code",
      "source": [
        "import turtle\n",
        "import random\n",
        "t=turtle.Turtle()\n",
        "t.shape(\"turtle\")\n",
        "\n",
        "for i in range(30): #30번 반복\n",
        "  length = random.randint(1, 100) #길이는 1에서 100내에서 랜덤\n",
        "  t.forward(length) #랜덤으로 나온 숫자만큼 직진\n",
        "  angle=random.randint(1, 4) #각도 1에서 4내에서 랜덤\n",
        "  t.right(90*angle) #오른쪽으로 회전"
      ],
      "metadata": {
        "id": "rOGhGNOmVy18"
      },
      "execution_count": null,
      "outputs": []
    },
    {
      "cell_type": "code",
      "source": [
        "i = 1\n",
        "while i <= 9: #9보다 작거나 같으면 반복\n",
        "  j = 1\n",
        "  while j <= 9: #9보다 작거나 같으면 반복\n",
        "    print(i, \"*\", j, \"=\", i*j)\n",
        "    j = j+1\n",
        "  print(\"\")\n",
        "  i = i+1"
      ],
      "metadata": {
        "id": "kptxXGILWIwT"
      },
      "execution_count": null,
      "outputs": []
    },
    {
      "cell_type": "code",
      "source": [
        "import turtle\n",
        "t=turtle.Turtle()\n",
        "t.shape(\"turtle\")\n",
        "\n",
        "i=0\n",
        "while i < 5: #5보다 작으면 반복\n",
        "  t.forward(50) #50만큼 직진\n",
        "  t.right(144) #오른쪽으로 144도 회전"
      ],
      "metadata": {
        "id": "ZodfICMgWwLR"
      },
      "execution_count": null,
      "outputs": []
    },
    {
      "cell_type": "code",
      "source": [
        "import turtle\n",
        "import random\n",
        "\n",
        "colors=[\"red\", \"purple\", \"blue\", \"green\", \"yellow\", \"orange\"] #색깔 리스트에 저장하여 놓았다가 하나씩 꺼내서 변경\n",
        "t=turtle.Turtle()\n",
        "\n",
        "turtle.bgcolor(\"black\") #배경색 검정색으로 선언\n",
        "t.speed(0) #거북이 속도 0으로 설정 시 최대가 됨\n",
        "t.width(3) #선의 두께\n",
        "length=10 #선의 길이\n",
        "\n",
        "while length<500: #선의 길이 500보다 작으면 반복\n",
        "  t.forward(length) #길이만큼 직진\n",
        "  t.pencolor(colors[length%6]) #선의 색상 변경\n",
        "  angle=random.randint(1,100) #각도 랜덤 지정 후 회전\n",
        "  t.right(angle) #랜덤한 각도로 오른쪽으로 회전\n",
        "  length += 5 #선의 길이를 5만큼 증가시킴"
      ],
      "metadata": {
        "id": "NYOYQ87iXA2h"
      },
      "execution_count": null,
      "outputs": []
    },
    {
      "cell_type": "code",
      "source": [
        "import random #랜덤 모듈 불러오기\n",
        "\n",
        "tries = 0\n",
        "guess = 0\n",
        "answer = random.randint(1,100) #답은 1에서 100사이의 숫자 중 랜덤\n",
        "\n",
        "print(\"1부터 100사이의 숫자를 맞추시오: \")\n",
        "\n",
        "while guess != answer:\n",
        "  if tries <10: #시도횟수 10보다 작으면\n",
        "    guess=int(input(\"숫자를 입력하시오: \"))\n",
        "    tries=tries+1\n",
        "    if guess < answer: #답보다 추측한 값이 작으면\n",
        "      print(\"낮음!\") #낮음 출력\n",
        "    elif guess > answer: #추측한 값이 답보다 크면\n",
        "      print(\"높음!\") #높음 출력\n",
        "  else: #시도횟수가 10번 이상이면 \n",
        "    print(\"시도횟수를 초과하였습니다.\")\n",
        "    break #반복 종료\n",
        "  \n",
        "if guess==answer: #답과 추측한 값이 같다면\n",
        "  print(\"축하합니다. 시도횟수= \", tries)\n",
        "else:#그 외\n",
        "  print(\"정답은 \", answer)"
      ],
      "metadata": {
        "id": "ZAfHVW9rYQ7l"
      },
      "execution_count": null,
      "outputs": []
    },
    {
      "cell_type": "code",
      "source": [
        "import random\n",
        "\n",
        "while True:\n",
        "  q=random.randint(0,1)\n",
        "  x=random.randint(1,100)\n",
        "  y=random.randint(1,100)\n",
        "  if(q==1)&(x>y): #q는 1과 같고 x>y일때\n",
        "    print(x,\"-\", y, \"=\", end=\"\") #출력\n",
        "    answer=int(input()) \n",
        "    if answer==x-y: #답이 x-y일때\n",
        "      print(\"잘했어요!!\")\n",
        "    else: #그 외\n",
        "      print(\"다음번에는 잘할 수 있죠?\")\n",
        "\n",
        "  else: #q=1이 아니고 x>y가 아닌 것\n",
        "      print(x, \"+\", y, \"=\", end=\"\")\n",
        "      answer=int(input())\n",
        "      if answer==x+y:\n",
        "        print(\"잘했어요!!\")\n",
        "      else:\n",
        "        print(\"다음번에는 잘할 수 있죠?\")"
      ],
      "metadata": {
        "id": "gtZTAUT5aHYe"
      },
      "execution_count": null,
      "outputs": []
    },
    {
      "cell_type": "code",
      "source": [
        "import random\n",
        "number=random.randint(1,8) #숫자 1부터 8내에서 랜덤\n",
        "\n",
        "list=[\"한 점의 의심도 없이 맞습니다.\", \"할 수 있습니다.\", \"물론입니다.\", \"글쎄요. 열심히 해야 할 것 입니다.\", \"안될 것 같습니다.\", \"조금 더 노력하세요.\", \"행운을 빕니다.\", \"다음 달에 할 수 있을 것 입니다.\"]\n",
        "#리스트에 저장해 놓았다가 하나씩 꺼내서 변경\n",
        "while True:\n",
        "  name=input(\"이름:(종료하려면 엔터키) \")\n",
        "  if name == \"\":\n",
        "    break;\n",
        "  question=input(\"무엇에 대하여 알고 싶은가요?\")\n",
        "  print(name, \"님\", \"₩\", question, \"\"₩\"에 대하여 질문 주셨군요.\")\n",
        "  print(\"운명의 주사위를 굴려볼게요.\")\n",
        "  print(list[number-1])"
      ],
      "metadata": {
        "id": "pWKUygGrbUHj"
      },
      "execution_count": null,
      "outputs": []
    }
  ]
}