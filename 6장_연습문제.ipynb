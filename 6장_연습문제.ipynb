{
  "nbformat": 4,
  "nbformat_minor": 0,
  "metadata": {
    "colab": {
      "name": "6장 연습문제",
      "provenance": [],
      "authorship_tag": "ABX9TyNMCmxOtUmJqKHLUx9iACKj",
      "include_colab_link": true
    },
    "kernelspec": {
      "name": "python3",
      "display_name": "Python 3"
    },
    "language_info": {
      "name": "python"
    }
  },
  "cells": [
    {
      "cell_type": "markdown",
      "metadata": {
        "id": "view-in-github",
        "colab_type": "text"
      },
      "source": [
        "<a href=\"https://colab.research.google.com/github/seoyoons/python/blob/main/6%EC%9E%A5_%EC%97%B0%EC%8A%B5%EB%AC%B8%EC%A0%9C.ipynb\" target=\"_parent\"><img src=\"https://colab.research.google.com/assets/colab-badge.svg\" alt=\"Open In Colab\"/></a>"
      ]
    },
    {
      "cell_type": "markdown",
      "metadata": {
        "id": "v9AR9Lm0cPB4"
      },
      "source": [
        "2부터 100 사이의 모든 짝수를 출력하는 반복 루프를 작성한다."
      ]
    },
    {
      "cell_type": "code",
      "metadata": {
        "colab": {
          "base_uri": "https://localhost:8080/"
        },
        "id": "iWk10Ab5ivmg",
        "outputId": "e674bf23-12b2-49ec-dcf7-910c7301f760"
      },
      "source": [
        "for i in range(1, 101):\n",
        "  if(i%2==0): #i%2의 결과가 0이면 i는 짝수\n",
        "    print(i, end=\"\") #end=\"\"는 줄이 바뀌지 않고 한 줄에 전부 출력되게 해준다."
      ],
      "execution_count": null,
      "outputs": [
        {
          "output_type": "stream",
          "name": "stdout",
          "text": [
            "2468101214161820222426283032343638404244464850525456586062646668707274767880828486889092949698100"
          ]
        }
      ]
    },
    {
      "cell_type": "markdown",
      "metadata": {
        "id": "lIdGmCesjV96"
      },
      "source": [
        "어떤 사람이 복리이자율 7%로 1000만원을 저금했을 경우에 2000만원이 되는데 몇 년이 걸리는지 계산하기 위하여 다음과 코드를 작성하였다. 잘못된 점은 없는지 체크해보자."
      ]
    },
    {
      "cell_type": "code",
      "metadata": {
        "colab": {
          "base_uri": "https://localhost:8080/"
        },
        "id": "sTY7yInfjnOO",
        "outputId": "01420298-d039-49ea-d430-a4b5467ddb82"
      },
      "source": [
        "year = 0\n",
        "balance = 1000\n",
        "\n",
        "while balance >= 2000:\n",
        "  year=year+1\n",
        "  interest = balance * 0.07\n",
        "  balance = balance + interest\n",
        "print(year, \"년 걸립니다.\")"
      ],
      "execution_count": null,
      "outputs": [
        {
          "output_type": "stream",
          "name": "stdout",
          "text": [
            "0 년 걸립니다.\n"
          ]
        }
      ]
    },
    {
      "cell_type": "code",
      "metadata": {
        "colab": {
          "base_uri": "https://localhost:8080/"
        },
        "id": "YzA-IoKCkE0Z",
        "outputId": "b1d5d928-5b0d-4bb3-ac1f-4dd778a1e8d0"
      },
      "source": [
        "year = 0\n",
        "balance = 1000\n",
        "\n",
        "while balance <= 2000:   # >=이 아니라 <=으로 수정/ while 문의 경우, 참이면 계속 반복\n",
        "  year=year+1\n",
        "  interest = balance * 0.07\n",
        "  balance = balance + interest\n",
        "print(year, \"년 걸립니다.\")"
      ],
      "execution_count": null,
      "outputs": [
        {
          "output_type": "stream",
          "name": "stdout",
          "text": [
            "11 년 걸립니다.\n"
          ]
        }
      ]
    },
    {
      "cell_type": "markdown",
      "metadata": {
        "id": "LdKCBT8fkZPH"
      },
      "source": [
        "다음 코드의 출력을 예상해보자. 각 단계에서 변수의 값을 예상해보시오."
      ]
    },
    {
      "cell_type": "code",
      "metadata": {
        "colab": {
          "base_uri": "https://localhost:8080/"
        },
        "id": "2p2olWX3k3jZ",
        "outputId": "b211e2cd-20be-443b-9abe-1b57d6eb7336"
      },
      "source": [
        "n=1234\n",
        "sum=0\n",
        "while n>0:\n",
        "  digit = n%10 # %는 나머지를 구하는 연산자\n",
        "  sum=sum+digit\n",
        "  n=n//10  # //는 몫을 구하는 연산자\n",
        "print(sum) #각 자리수 1+2+3+4=10이 출력"
      ],
      "execution_count": null,
      "outputs": [
        {
          "output_type": "stream",
          "name": "stdout",
          "text": [
            "10\n"
          ]
        }
      ]
    },
    {
      "cell_type": "markdown",
      "source": [
        "사용자에게 곱셈 퀴즈를 내고 답을 사용자로부터 받는 프로그램에서 사용자가 올바른 답을 입력할 때까지 반복하도록 수정하여 보자."
      ],
      "metadata": {
        "id": "6z3z9aZat4Vd"
      }
    },
    {
      "cell_type": "code",
      "source": [
        "import random\n",
        "\n",
        "a = random.randint(1,10)  #랜덤으로 범위 안의 숫자 지정\n",
        "b = random.randint(1,10)  \n",
        "mul=a*b\n",
        "\n",
        "while True:\n",
        "  answer=int(input(str(a)+\"*\"+str(b)+\"는 \"))\n",
        "  if mul==answer:\n",
        "    print(\"맞았습니다.\")\n",
        "    break;"
      ],
      "metadata": {
        "colab": {
          "base_uri": "https://localhost:8080/"
        },
        "id": "FWxK9X6OuPph",
        "outputId": "fc406db9-e622-4c22-ac93-0018983a5be0"
      },
      "execution_count": null,
      "outputs": [
        {
          "output_type": "stream",
          "name": "stdout",
          "text": [
            "5*8는 32\n",
            "5*8는 40\n",
            "맞았습니다.\n"
          ]
        }
      ]
    },
    {
      "cell_type": "code",
      "source": [
        "ans=0\n",
        "while ans != 3*9:  # !는 부정형\n",
        "  ans=int(input(\"3x9는 \"))\n",
        "print(\"맞았습니다.\")"
      ],
      "metadata": {
        "colab": {
          "base_uri": "https://localhost:8080/"
        },
        "id": "U6lzonxOv6qG",
        "outputId": "db7f9911-4f42-4b26-e9f6-c92d9ee81860"
      },
      "execution_count": null,
      "outputs": [
        {
          "output_type": "stream",
          "name": "stdout",
          "text": [
            "3x9는 23\n",
            "3x9는 27\n",
            "맞았습니다.\n"
          ]
        }
      ]
    },
    {
      "cell_type": "markdown",
      "source": [
        "사용자가 입력한 정수의 합을 계산하는 프로그램을 작성하자. 사용자가 0을 입력하기 전까지 정수를 계속하여 읽도록 한다."
      ],
      "metadata": {
        "id": "BjfGlsso1chT"
      }
    },
    {
      "cell_type": "code",
      "source": [
        "sum = 0\n",
        "while True:\n",
        "  x = int(input(\"정수를 입력하시오.: \"))\n",
        "  if x != 0: # 만약 x가 0이 아니면\n",
        "    sum = sum + x\n",
        "  else: # 그 외의 경우, (0인 경우)\n",
        "    print(\"합은\", sum, \"입니다.\")\n",
        "    break; #반복문 탈출"
      ],
      "metadata": {
        "colab": {
          "base_uri": "https://localhost:8080/"
        },
        "id": "b_EebPqT1qBh",
        "outputId": "36f64230-24f7-4cc3-deca-8dac25162aac"
      },
      "execution_count": null,
      "outputs": [
        {
          "output_type": "stream",
          "name": "stdout",
          "text": [
            "정수를 입력하시오.: 1\n",
            "정수를 입력하시오.: 2\n",
            "정수를 입력하시오.: 3\n",
            "정수를 입력하시오.: 0\n",
            "합은 6 입니다.\n"
          ]
        }
      ]
    },
    {
      "cell_type": "markdown",
      "source": [
        "난수 생성 함수를 사용하여서 2개의 주사위를 던졌을 때 나오는 수를 다음과 같이 출력하여 보자."
      ],
      "metadata": {
        "id": "eVV0dtSA5RV8"
      }
    },
    {
      "cell_type": "code",
      "source": [
        "import random\n",
        "for i in range(3): #3번 반복시키는 구조\n",
        "  r1=random.randint(1, 6)\n",
        "  r2=random.randint(1, 6)\n",
        "  print(\"첫번째 주사위=\", r1, \"두번째 주사위=\", r2)\n"
      ],
      "metadata": {
        "colab": {
          "base_uri": "https://localhost:8080/"
        },
        "id": "oe79FaPf5bbu",
        "outputId": "72f33de1-4c64-4d04-9dc8-2c5312dd8b3f"
      },
      "execution_count": null,
      "outputs": [
        {
          "output_type": "stream",
          "name": "stdout",
          "text": [
            "첫번째 주사위= 3 두번째 주사위= 1\n",
            "첫번째 주사위= 4 두번째 주사위= 4\n",
            "첫번째 주사위= 4 두번째 주사위= 3\n"
          ]
        }
      ]
    },
    {
      "cell_type": "code",
      "source": [
        "from random import randint\n",
        "\n",
        "for i in range(3):\n",
        "  d1=randint(1,6)\n",
        "  d2=randint(1,6)\n",
        "  print(\"첫번째 주사위=\", d1, \"두번째 주사위=\", d2)"
      ],
      "metadata": {
        "colab": {
          "base_uri": "https://localhost:8080/"
        },
        "id": "d6V3FkKC6NB3",
        "outputId": "d512d75d-e5a2-4049-8197-ed172098277a"
      },
      "execution_count": null,
      "outputs": [
        {
          "output_type": "stream",
          "name": "stdout",
          "text": [
            "첫번째 주사위= 4 두번째 주사위= 2\n",
            "첫번째 주사위= 2 두번째 주사위= 6\n",
            "첫번째 주사위= 1 두번째 주사위= 6\n"
          ]
        }
      ]
    },
    {
      "cell_type": "markdown",
      "source": [
        "터틀 그래픽과 반복을 사용하여 눈 모양을 그려보자."
      ],
      "metadata": {
        "id": "N8f7XljW9SLG"
      }
    },
    {
      "cell_type": "code",
      "source": [
        "import turtle\n",
        "t=turtle.Turtle()\n",
        "t.shape(\"turtle\")\n",
        "t.lt(90)\n",
        "\n",
        "for i in range(6): #6번 반복시켜준다.\n",
        "  t.fd(100); t.fd(-30); t.lt(60); t.fd(30); t.fd(-30);\n",
        "\tt.rt(120); t.fd(30); t.fd(-30); t.lt(60); t.fd(-70); t,lt(60);\n",
        "  t._screen.exitonclick()\n",
        "\n"
      ],
      "metadata": {
        "id": "EfB6krpO9a3i"
      },
      "execution_count": null,
      "outputs": []
    },
    {
      "cell_type": "markdown",
      "source": [
        "10개의 별을 그리는 프로그램을 작성하라. 별들은 시작 각도가 약간씩 다르다."
      ],
      "metadata": {
        "id": "-r9jevKIDOTB"
      }
    },
    {
      "cell_type": "code",
      "source": [
        "import turtle #turtle 모듈 불러오기\n",
        "myPen = turtle.Turtle() #turtle을 myPen으로 선언\n",
        "myPen.speed(0) #바로 그림\n",
        "myPen.color(\"#ff0000\") #빨강\n",
        "\t\n",
        "for j in range(1, 10): \n",
        "\tfor i in range(1, 6):\n",
        "    myPen.left(144) #왼쪽으로 144도 회전\n",
        "\t\tmyPen.forward(200) #200 직진\n",
        "\tmyPen.left(10) #왼쪽으로 10도 회전\n",
        "\n",
        "\t\n",
        "myPen._scree.exitonclick() #종료 시 화면 클릭"
      ],
      "metadata": {
        "id": "5FFOtoU9DZNK"
      },
      "execution_count": null,
      "outputs": []
    },
    {
      "cell_type": "code",
      "source": [
        "import turtle #turtle 모듈 불러오기\n",
        "t=turtle.Turtle() #turtle을 t로 선언\n",
        "t.shape(\"turtle\") #turtle 모듈의 아이콘을 거북이 모양으로 선언\n",
        "for i in range(10): #10번 반복/ 끝에 :가 있어야 함\n",
        "\tt.forward(-100) #-100으로 직진\n",
        "\tt.lt(36) #왼쪽으로 36도 회전\n",
        "\tt.forward(100) #100으로 직진\n",
        "\tt.lt(36)\n",
        "\tt.forward(-100)\n",
        "\tt.lt(36)\n",
        "\tt.forward(100)\n",
        "\tt.lt(36)\n",
        "\tt.forward(-100)\n",
        "\tt.rt(134)"
      ],
      "metadata": {
        "id": "ZGHvd1yrvyBy"
      },
      "execution_count": null,
      "outputs": []
    },
    {
      "cell_type": "markdown",
      "source": [
        "반복과 난수를 함께 사용하면 화면에 랜덤한 원을 그릴 수 있다. 화면에 10개의 랜덤한 원을 그리는 프로그램을 작성하라. 원의 중심과 반지름이 모두 난수이어야 한다."
      ],
      "metadata": {
        "id": "IuFz0VfQw5rC"
      }
    },
    {
      "cell_type": "code",
      "source": [
        "import random #random 모듈 불러오기\n",
        "import turtle #turtle 모듈 불러오기\n",
        "t=turtle.Turtle() #turtle을 t로 선언\n",
        "t.shape(\"turtle\") #아이콘을 거북이 모양으로 선언\n",
        "\n",
        "for i in range(10): #10번 반복\n",
        "    x=random.randint(1,100) #1부터 100사이의 난수를 발생시켜주는 문장\n",
        "    y=random.randint(1,100)\n",
        "    z=random.randint(-180,180) # -180부터 180 사이 랜덤\n",
        "    t.up() #펜을 들어올림\n",
        "    t.goto(x,y) #(x,y)좌표로 이동\n",
        "    t.down() 펜을 내림\n",
        "    t.circle(z) # z크기의 반지름을 가지는 원을 그림"
      ],
      "metadata": {
        "id": "fy_OOTqTxGh6"
      },
      "execution_count": null,
      "outputs": []
    },
    {
      "cell_type": "markdown",
      "source": [
        "다음과 같이 거북이를 왕복 달리기시키는 프로그램을 작성해보자."
      ],
      "metadata": {
        "id": "8uuKT0aJ09R2"
      }
    },
    {
      "cell_type": "code",
      "source": [
        "import turtle #turtle 모듈 불러오기\n",
        "t=turtle.Turtle() #turtle을 t로 선언\n",
        "t.shape(\"turtle\") #아이콘을 거북이 모양으로 선언\n",
        "\n",
        "count=0 #초기화\n",
        "\n",
        "while True: #무한루프 반복문\n",
        "    t.fd(100); t.rt(90); t.fd(20); t.rt(90); t.fd(100); t.lt(90); t.fd(20); t.lt(90); \n",
        "    \n",
        "    count += 1  #윗 문장이 끝날 때마다 count 1씩 증가\n",
        "    \n",
        "    if(count == 7): #7이면\n",
        "        break #반복 종료"
      ],
      "metadata": {
        "id": "ua_8hYnO1EYb"
      },
      "execution_count": null,
      "outputs": []
    },
    {
      "cell_type": "markdown",
      "source": [
        "다음의 터틀 그래픽 프로그램을 분석해보자. 학습하지 않은 함수가 있다면 인터넷에서 조사하여 보자."
      ],
      "metadata": {
        "id": "qbz7ATSt3T5l"
      }
    },
    {
      "cell_type": "code",
      "source": [
        "import turtle\n",
        "t=turtle.Turtle()\n",
        "t.shape(\"turtle\")\n",
        "t.color('red', 'yellow')\n",
        "t.begin_fill() #begin_fill()은 속이 채워진 도형이 그려진다.\n",
        "while True: #무한루프 반복문\n",
        "    t.forward(200) #200만큼 직진\n",
        "    t.left(170) #왼쪽으로 170도 회전\n",
        "    if abs(t.pos()) < 1: #abs()는 절댓값 계산, pos()는 거북이의 좌표를 반환.\n",
        "        break #반복 종료, 반복 루프 빠져나오는\n",
        "t.end_fill() #채우기를 종료"
      ],
      "metadata": {
        "id": "jTU_CmD43cE8"
      },
      "execution_count": null,
      "outputs": []
    },
    {
      "cell_type": "markdown",
      "source": [
        "터틀 그래픽과 반복을 사용하여 싸인(sine) 그래프를 그려보자. 거북이를 싸인값에 따라서 움직이면 된다."
      ],
      "metadata": {
        "id": "O_Kf-WVy7OHp"
      }
    },
    {
      "cell_type": "code",
      "source": [
        "import turtle #turtle 모듈 불러오기\n",
        "import math #math 모듈 불러오기\n",
        "\n",
        "t=turtle.Turtle() # turtle을 t로 선언\n",
        "t.shape(\"turtle\") #아이콘을 거북이 모양으로 선언\n",
        "t.color('red', 'yellow') # red의 경우 펜의 색깔, yellow의 경우 채우는 색깔\n",
        "\n",
        "for x in range(0, 360):\n",
        "    t.goto(x, 200*math.sin(x*3.14/180)) #좌표로 이동\n",
        "t._screen.exitonclick() #화면 클릭 시 종료"
      ],
      "metadata": {
        "id": "V8pf-KPQ7Xv5"
      },
      "execution_count": null,
      "outputs": []
    }
  ]
}