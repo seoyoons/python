{
  "nbformat": 4,
  "nbformat_minor": 0,
  "metadata": {
    "colab": {
      "name": "6장 연습문제",
      "provenance": [],
      "authorship_tag": "ABX9TyMhEqv1EzrKsMv51QtybF6e",
      "include_colab_link": true
    },
    "kernelspec": {
      "name": "python3",
      "display_name": "Python 3"
    },
    "language_info": {
      "name": "python"
    }
  },
  "cells": [
    {
      "cell_type": "markdown",
      "metadata": {
        "id": "view-in-github",
        "colab_type": "text"
      },
      "source": [
        "<a href=\"https://colab.research.google.com/github/seoyoons/python/blob/main/6%EC%9E%A5_%EC%97%B0%EC%8A%B5%EB%AC%B8%EC%A0%9C.ipynb\" target=\"_parent\"><img src=\"https://colab.research.google.com/assets/colab-badge.svg\" alt=\"Open In Colab\"/></a>"
      ]
    },
    {
      "cell_type": "markdown",
      "metadata": {
        "id": "v9AR9Lm0cPB4"
      },
      "source": [
        "2부터 100 사이의 모든 짝수를 출력하는 반복 루프를 작성한다."
      ]
    },
    {
      "cell_type": "code",
      "metadata": {
        "colab": {
          "base_uri": "https://localhost:8080/"
        },
        "id": "iWk10Ab5ivmg",
        "outputId": "e674bf23-12b2-49ec-dcf7-910c7301f760"
      },
      "source": [
        "for i in range(1, 101):\n",
        "  if(i%2==0):\n",
        "    print(i, end=\"\")"
      ],
      "execution_count": 2,
      "outputs": [
        {
          "output_type": "stream",
          "name": "stdout",
          "text": [
            "2468101214161820222426283032343638404244464850525456586062646668707274767880828486889092949698100"
          ]
        }
      ]
    },
    {
      "cell_type": "markdown",
      "metadata": {
        "id": "lIdGmCesjV96"
      },
      "source": [
        "어떤 사람이 복리이자율 7%로 1000만원을 저금했을 경우에 2000만원이 되는데 몇 년이 걸리는지 계산하기 위하여 다음과 코드를 작성하였다. 잘못된 점은 없는지 체크해보자."
      ]
    },
    {
      "cell_type": "code",
      "metadata": {
        "colab": {
          "base_uri": "https://localhost:8080/"
        },
        "id": "sTY7yInfjnOO",
        "outputId": "01420298-d039-49ea-d430-a4b5467ddb82"
      },
      "source": [
        "year = 0\n",
        "balance = 1000\n",
        "\n",
        "while balance >= 2000:\n",
        "  year=year+1\n",
        "  interest = balance * 0.07\n",
        "  balance = balance + interest\n",
        "print(year, \"년 걸립니다.\")"
      ],
      "execution_count": 3,
      "outputs": [
        {
          "output_type": "stream",
          "name": "stdout",
          "text": [
            "0 년 걸립니다.\n"
          ]
        }
      ]
    },
    {
      "cell_type": "code",
      "metadata": {
        "colab": {
          "base_uri": "https://localhost:8080/"
        },
        "id": "YzA-IoKCkE0Z",
        "outputId": "b1d5d928-5b0d-4bb3-ac1f-4dd778a1e8d0"
      },
      "source": [
        "year = 0\n",
        "balance = 1000\n",
        "\n",
        "while balance <= 2000:\n",
        "  year=year+1\n",
        "  interest = balance * 0.07\n",
        "  balance = balance + interest\n",
        "print(year, \"년 걸립니다.\")"
      ],
      "execution_count": 4,
      "outputs": [
        {
          "output_type": "stream",
          "name": "stdout",
          "text": [
            "11 년 걸립니다.\n"
          ]
        }
      ]
    },
    {
      "cell_type": "markdown",
      "metadata": {
        "id": "LdKCBT8fkZPH"
      },
      "source": [
        "다음 코드의 출력을 예상해보자. 각 단계에서 변수의 값을 예상해보시오."
      ]
    },
    {
      "cell_type": "code",
      "metadata": {
        "colab": {
          "base_uri": "https://localhost:8080/"
        },
        "id": "2p2olWX3k3jZ",
        "outputId": "b211e2cd-20be-443b-9abe-1b57d6eb7336"
      },
      "source": [
        "n=1234\n",
        "sum=0\n",
        "while n>0:\n",
        "  digit = n%10\n",
        "  sum=sum+digit\n",
        "  n=n//10\n",
        "print(sum)"
      ],
      "execution_count": 5,
      "outputs": [
        {
          "output_type": "stream",
          "name": "stdout",
          "text": [
            "10\n"
          ]
        }
      ]
    }
  ]
}