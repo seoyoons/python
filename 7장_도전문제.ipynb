{
  "nbformat": 4,
  "nbformat_minor": 0,
  "metadata": {
    "colab": {
      "name": "7장 도전문제",
      "provenance": [],
      "authorship_tag": "ABX9TyOsYacNGgA0xHtljly13i1t",
      "include_colab_link": true
    },
    "kernelspec": {
      "name": "python3",
      "display_name": "Python 3"
    },
    "language_info": {
      "name": "python"
    }
  },
  "cells": [
    {
      "cell_type": "markdown",
      "metadata": {
        "id": "view-in-github",
        "colab_type": "text"
      },
      "source": [
        "<a href=\"https://colab.research.google.com/github/seoyoons/python/blob/main/7%EC%9E%A5_%EB%8F%84%EC%A0%84%EB%AC%B8%EC%A0%9C.ipynb\" target=\"_parent\"><img src=\"https://colab.research.google.com/assets/colab-badge.svg\" alt=\"Open In Colab\"/></a>"
      ]
    },
    {
      "cell_type": "code",
      "execution_count": null,
      "metadata": {
        "id": "-5EKtJEpywPa"
      },
      "outputs": [],
      "source": [
        "import turtle\n",
        "t=turtle.Turtle()\n",
        "t.shape(\"turtle\")\n",
        "\n",
        "def shape(length):\n",
        "  s=turtle.textinput(\"\", \"몇각형을 원하시나요?:\")\n",
        "  n=int(s)\n",
        "\n",
        "  for i in range(n):\n",
        "    t.forward(length)\n",
        "    t.left(360/n)\n",
        "\n",
        "t.up()\n",
        "t.goto(-200,0)\n",
        "t.down()\n",
        "shape(100);\n",
        "\n",
        "t.up()\n",
        "t.goto(0,0)\n",
        "t.down()\n",
        "shape(100);\n",
        "\n",
        "t.up()\n",
        "t.goto(200,0)\n",
        "t.down()\n",
        "shape(100);"
      ]
    },
    {
      "cell_type": "code",
      "source": [
        "import turtle\n",
        "t=turtle.Turtle()\n",
        "t.shape(\"turtle\")\n",
        "\n",
        "def square(length,index):\n",
        "  t.color(colorList[index])\n",
        "  t.begin_fill()\n",
        "  for i in range(4):\n",
        "    t.forward(length)\n",
        "    t.left(90)\n",
        "  t.end_fill()\n",
        "\n",
        "colorList=[\"red\", \"blue\", \"green\"]\n",
        "x=-200\n",
        "\n",
        "for i in range(len(colorList)):\n",
        "      t.up()\n",
        "      t.goto(x,0)\n",
        "      t.down()\n",
        "      square(100,i);\n",
        "      x+=200\n",
        "  \n",
        "t._screen.exitonclick()"
      ],
      "metadata": {
        "id": "BPl7kcuA0BLF"
      },
      "execution_count": null,
      "outputs": []
    },
    {
      "cell_type": "code",
      "source": [
        "import turtle\n",
        "t=turtle.Turtle()\n",
        "\n",
        "def n_polygon(n, length):\n",
        "  for i in range(n):\n",
        "    t.forward(length)\n",
        "    t.left(360/n)\n",
        "    \n",
        "def get_color(index):\n",
        "  list = [\"red\", \"orange\", \"yellow\", \"green\", \"blue\", \"navy\", \"purple\", \"gray\", \"skyblue\", \"pink\"]\n",
        "  t.color(list[index])\n",
        "  t.begin_fill()\n",
        "  n_polygon(6,100)\n",
        "  t.end_fill()\n",
        "  \n",
        "for i in range(10):\n",
        "  t.left(20)\n",
        "  get_color(i)\n",
        "  \n",
        "t._screen.exitonclick()"
      ],
      "metadata": {
        "id": "SuqItjra1gEA"
      },
      "execution_count": null,
      "outputs": []
    },
    {
      "cell_type": "code",
      "source": [
        "import turtle\n",
        "t=turtle.Turtle()\n",
        "\n",
        "def circle(length):\n",
        "  t.circle(length)\n",
        "  t.left(60)\n",
        "  \n",
        "def drawit(x,y):\n",
        "  t.penup()\n",
        "  t.goto(x,y)\n",
        "  t.pendown()\n",
        "  t.begin_fill()\n",
        "  t.color(\"green\")\n",
        "  circle(50)\n",
        "  t.end_fill()\n",
        "  \n",
        "s=turtle.Screen()\n",
        "s.onscreenclick(drawit)"
      ],
      "metadata": {
        "id": "5KNnKQ2I2jK2"
      },
      "execution_count": null,
      "outputs": []
    },
    {
      "cell_type": "code",
      "source": [
        "import turtle\n",
        "import random\n",
        "\n",
        "def tree(length):\n",
        "  angle=(random.randint(-20,20))\n",
        "  if length > 5:\n",
        "    t.forward(length)\n",
        "    t.right(20+angle)\n",
        "    \n",
        "    tree(length-15*(random.random()+0.4))\n",
        "    t.left(40+(angle*2))\n",
        "    tree(length-15*(random.random()+0.4))\n",
        "    t.right(20+angle)\n",
        "    t.backward(length)\n",
        "    \n",
        "t=turtle.Turtle()\n",
        "t.left(90)\n",
        "\n",
        "t.color(\"green\")\n",
        "t.speed(1)\n",
        "tree(90)"
      ],
      "metadata": {
        "id": "QWfJiS2d4IsZ"
      },
      "execution_count": null,
      "outputs": []
    }
  ]
}