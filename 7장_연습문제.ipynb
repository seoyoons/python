{
  "nbformat": 4,
  "nbformat_minor": 0,
  "metadata": {
    "colab": {
      "name": "7장 연습문제",
      "provenance": [],
      "authorship_tag": "ABX9TyMPJTZAbPR8oQ6WjgvoMUVD",
      "include_colab_link": true
    },
    "kernelspec": {
      "name": "python3",
      "display_name": "Python 3"
    },
    "language_info": {
      "name": "python"
    }
  },
  "cells": [
    {
      "cell_type": "markdown",
      "metadata": {
        "id": "view-in-github",
        "colab_type": "text"
      },
      "source": [
        "<a href=\"https://colab.research.google.com/github/seoyoons/python/blob/main/7%EC%9E%A5_%EC%97%B0%EC%8A%B5%EB%AC%B8%EC%A0%9C.ipynb\" target=\"_parent\"><img src=\"https://colab.research.google.com/assets/colab-badge.svg\" alt=\"Open In Colab\"/></a>"
      ]
    },
    {
      "cell_type": "markdown",
      "source": [
        "눈사람을 그리는 함수를 작성하고 이 함수를 여러 번 호출하여서 랜덤한 위치에 눈사람을 그리는 프로그램을 작성하라. 아래 실행 결과와 최대한 비슷하게 작성해보자."
      ],
      "metadata": {
        "id": "uChjw58eshae"
      }
    },
    {
      "cell_type": "code",
      "execution_count": null,
      "metadata": {
        "id": "R0N8S59Wo_tI"
      },
      "outputs": [],
      "source": [
        "import turtle #turtle 모듈 불러오기\n",
        "t=turtle.Turtle() #turtle을 t로 선언\n",
        "t.shape(\"turtle\") #아이콘을 거북이 모양으로 선언\n",
        "t.color(\"black\", \"white\") # 펜의 색은 검정색, 채우는 색 흰색\n",
        "s=turtle.Screen(); s.bgcolor('skyblue'); # 바탕 색을 하늘색으로\n",
        "\n",
        "def draw_snowman(x, y): #함수 정의\n",
        "  t.up() # 펜 들어올림\n",
        "  t.goto(x, y) #(x, y)로 이동\n",
        "  t.down() # 펜 내림\n",
        "  t.begin_fill() # 채워진 다각형을 시작\n",
        "  t.goto(x,y-25) #(x, y-25)로 이동\n",
        "  t.setheading(135) #머리 각도를 135도 \n",
        "  t.forward(50) #50픽셀 직진\n",
        "  t.backward(50) #50픽셀 후진\n",
        "  \n",
        "  t.setheading(30) # 머리 각도를 30도 \n",
        "  t.forward(50) # 50픽셀 직진\n",
        "  t.backward(50) #50픽셀 후진\n",
        "  t.setheading(0) # 머리 각도를 0도\n",
        "  \n",
        "  t.begin_fill() # 채워진 다각형을 시작\n",
        "  t.circle(15) #반지름 15인 원\n",
        "  t.end_fill() # 채워진 다각형을 닫는다\n",
        "  t.goto(x, y-70) # 해당 좌표로 이동\n",
        "  t.begin_fill() \n",
        "  t.circle(30) # 반지름이 30인 원\n",
        "  t.end_fill()\n",
        "  \n",
        "draw_snowman(0,0) #(0,0)좌표에서 눈사람 그려진다.\n",
        "draw_snowman(100,0) #(100,0)에서 눈사람 그려진다.\n",
        "draw_snowman(200,0) #(200,0)에서 눈사람 그려진다.\n",
        "\n",
        "t._screen.exitonclick() # 화면 클릭 시 종료"
      ]
    },
    {
      "cell_type": "markdown",
      "source": [
        "6각형을 그리는 draw_hexa() 함수를 작성하고 이 함수를 호출하여서 다음과 같은 벌집 모양을 화면에 그려보자."
      ],
      "metadata": {
        "id": "08U-M5DdsvZ3"
      }
    },
    {
      "cell_type": "code",
      "source": [
        "import turtle #turtle 모듈 불러오기\n",
        "t=turtle.Turtle() # turtle을 t로 선언\n",
        "t.shape(\"turtle\") # 아이콘을 거북이 모양으로 선언\n",
        "t.speed(0) #바로 이동\n",
        "\n",
        "def hexagon(): #함수 정의\n",
        "  for i in range(6): #6번 반복\n",
        "    turtle.forward(100) #100픽셀 직진\n",
        "    turtle.left(360/6) #60도 왼쪽으로 회전\n",
        "for i in range(6): #6번 반복\n",
        "    hexagon()  # 6번 육각형 그려짐\n",
        "    turtle.forward(100) #100픽셀만큼 직진\n",
        "    turtle.right(60) #60도 오른쪽으로 회전\n",
        "    \n",
        "t._screen.exitonclick() # 화면 클릭 시 종료"
      ],
      "metadata": {
        "id": "-c3pIwqnrFsI"
      },
      "execution_count": null,
      "outputs": []
    },
    {
      "cell_type": "markdown",
      "source": [
        "함수 f(x)=x^2 + 1을 계산하는 함수를 작성하고 이 함수를 이용하여 화면에 f(x)를 그려보자."
      ],
      "metadata": {
        "id": "JYeC9-jps5uZ"
      }
    },
    {
      "cell_type": "code",
      "source": [
        "import turtle # turtle 모듈 불러오기\n",
        "t=turtle.Turtle() # turtle을 t로 선언\n",
        "t.shape(\"turtle\") #아이콘을 거북이 모양으로 선언\n",
        "t.speed(0) # 바로 이동\n",
        "\n",
        "def f(x): #함수 정의\n",
        "  return x**2+1 #반환값\n",
        "\n",
        "t.goto(200,0) \n",
        "t.goto(0,0)\n",
        "t.goto(0, 200)\n",
        "t.goto(0,0)\n",
        "\n",
        "for x in range(150): #150번 반복\n",
        "  t.goto(x, int(0.01*f(x))) #해당좌표로 이동"
      ],
      "metadata": {
        "id": "_fhuc_CytFJW"
      },
      "execution_count": null,
      "outputs": []
    },
    {
      "cell_type": "markdown",
      "source": [
        "터틀 그래픽에서 거북이를 움직이지 않고 선을 긋는 함수 draw_line()을 정의하고 이것을 이용하여 다음과 같은 거미줄과 같은 모양을 그려보자. 거북이는 항상 중앙에 위치한다."
      ],
      "metadata": {
        "id": "sSxnxJSHtEbC"
      }
    },
    {
      "cell_type": "code",
      "source": [
        "import turtle #turtle 모듈 불러오기\n",
        "t=turtle.Turtle() #turtle을 t로 선언\n",
        "t.shape(\"turtle\") #아이콘을 거북이 모양으로 선언\n",
        "t.speed(0) #바로 이동\n",
        "\n",
        "def draw_line(): #함수 정의\n",
        "  t.forward(100) #100픽셀 직진\n",
        "  t.backward(100) #100픽셀 후진\n",
        "\n",
        "for x in range(12): #12번 반복\n",
        "  t.right(30) #30도 오른쪽으로 회전\n",
        "  draw_line() #선 그려짐"
      ],
      "metadata": {
        "id": "F2tS7tDCtrdH"
      },
      "execution_count": null,
      "outputs": []
    },
    {
      "cell_type": "markdown",
      "source": [
        "다음과 같이 이름을 받아서 생일 축하 노래를 출력하는 함수 happyBirthday()를 작성하고 테스트하시오."
      ],
      "metadata": {
        "id": "7qMrGZ-8trrO"
      }
    },
    {
      "cell_type": "code",
      "source": [
        "def happyBirthday(person): #함수 정의\n",
        "  print(\"Happy Birthday to you!\") # 출력\n",
        "  print(\"Happy Birthday to you!\")\n",
        "  print(\"Happy Birthday, dear \" + person)\n",
        "  print(\"Happy Birthday to you!\")\n",
        "\n",
        "happyBirthday(\"홍길동\") "
      ],
      "metadata": {
        "id": "JEa0pzZgt17k"
      },
      "execution_count": null,
      "outputs": []
    },
    {
      "cell_type": "markdown",
      "source": [
        "사용자로부터 2개의 정수를 받아서 수학 문제를 만들어서 화면에 출력하는 함수를 작성하고 테스트하시오."
      ],
      "metadata": {
        "id": "TwArrUHWt2Q4"
      }
    },
    {
      "cell_type": "code",
      "source": [
        "def sumProblem(x,y): #(더하기 문제) 함수 \n",
        "  sum=x+y\n",
        "  sentence=\"정수\"+str(x)+\"+\"+str(y)+\"의 합은?\"\n",
        "  print(sentence)\n",
        "\n",
        "def main(): #(주된 문제) 함수\n",
        "  a=int(input(\"첫 번째 정수: \"))\n",
        "  b=int(input(\"두 번째 정수: \"))\n",
        "  sumProblem(a,b)\n",
        "\n",
        "main()"
      ],
      "metadata": {
        "colab": {
          "base_uri": "https://localhost:8080/"
        },
        "id": "YUJp1ltGt8ay",
        "outputId": "4ce5783d-a0d9-46f7-cd92-0baf69877a2f"
      },
      "execution_count": null,
      "outputs": [
        {
          "output_type": "stream",
          "name": "stdout",
          "text": [
            "첫 번째 정수: 12\n",
            "두 번째 정수: 23\n",
            "정수12+23의 합은?\n"
          ]
        }
      ]
    },
    {
      "cell_type": "markdown",
      "source": [
        "파이를 나타내는 PI=3.14를 전역 변수로 하여 원의 면적을 계산하는 함수 circleArea(radius)과 원의 둘레를 계산하는 함수 circleCircumference(radius)를 작성하고 테스트하라."
      ],
      "metadata": {
        "id": "dkZ_2Qypt8l7"
      }
    },
    {
      "cell_type": "code",
      "source": [
        "PI=3.14159265358979 #파이 값\n",
        "\n",
        "def circleArea(radius): #원의 넓이\n",
        "  return PI*radius*radius #(파이 * 반지름 * 반지름) 반환값\n",
        "\n",
        "def circleCircumference(radius): #원의 둘레\n",
        "  return 2*PI*radius #(2*파이*반지름) 반환값\n",
        "\n",
        "def main(): \n",
        "  print('반지름이 5인 원의 면적:', circleArea(5))\n",
        "  print('반지름이 5인 원의 둘레:', circleCircumference(5))\n",
        "\n",
        "main() #함수 불러오가"
      ],
      "metadata": {
        "colab": {
          "base_uri": "https://localhost:8080/"
        },
        "id": "tsfJR-sHuTZy",
        "outputId": "49a846c4-3578-4242-aa44-f606483104ca"
      },
      "execution_count": null,
      "outputs": [
        {
          "output_type": "stream",
          "name": "stdout",
          "text": [
            "반지름이 5인 원의 면적: 78.53981633974475\n",
            "반지름이 5인 원의 둘레: 31.4159265358979\n"
          ]
        }
      ]
    },
    {
      "cell_type": "markdown",
      "source": [
        "덧셈, 뺄셈, 곱셈, 나눗셈을 수행하는 함수를 각각 작성하고 테스트하라."
      ],
      "metadata": {
        "id": "HTrIFCRCuTol"
      }
    },
    {
      "cell_type": "code",
      "source": [
        "def add(a,b): #더하기\n",
        "  print(\"(%d + %d)\" % (a,b), end=\" \") # %d는 정수 출력하는/ end=\"\"은 한 줄로 출력\n",
        "  return a-b #반환값\n",
        "\n",
        "def multiply(a,b): #곱하기\n",
        "  print(\"(%d * %d)\" % (a,b), end=\" \")\n",
        "  return a*b #반환값\n",
        "\n",
        "def divide(a,b): #나누기\n",
        "  print(\"(%d / %d)\" % (a,b), end=\" \")\n",
        "  return a/b #반환값\n",
        "\n",
        "what = add(20, 10) # 20과 10을 더하면 무엇인지\n",
        "print(\"=\", what) # 출력"
      ],
      "metadata": {
        "colab": {
          "base_uri": "https://localhost:8080/"
        },
        "id": "71XsHeeMub0x",
        "outputId": "5e42e96e-6b51-4752-9463-f584714e4df2"
      },
      "execution_count": null,
      "outputs": [
        {
          "output_type": "stream",
          "name": "stdout",
          "text": [
            "(20 + 10) = 10\n"
          ]
        }
      ]
    }
  ]
}