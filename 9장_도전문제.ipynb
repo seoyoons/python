{
  "nbformat": 4,
  "nbformat_minor": 0,
  "metadata": {
    "colab": {
      "name": "9장 도전문제",
      "provenance": [],
      "authorship_tag": "ABX9TyOSM1yExfxOZjGCHGnyEXF2",
      "include_colab_link": true
    },
    "kernelspec": {
      "name": "python3",
      "display_name": "Python 3"
    },
    "language_info": {
      "name": "python"
    }
  },
  "cells": [
    {
      "cell_type": "markdown",
      "metadata": {
        "id": "view-in-github",
        "colab_type": "text"
      },
      "source": [
        "<a href=\"https://colab.research.google.com/github/seoyoons/python/blob/main/9%EC%9E%A5_%EB%8F%84%EC%A0%84%EB%AC%B8%EC%A0%9C.ipynb\" target=\"_parent\"><img src=\"https://colab.research.google.com/assets/colab-badge.svg\" alt=\"Open In Colab\"/></a>"
      ]
    },
    {
      "cell_type": "code",
      "execution_count": null,
      "metadata": {
        "id": "OHQ-5f-F05dE"
      },
      "outputs": [],
      "source": [
        "import random\n",
        "\n",
        "question=[\"56/8\", \"8*9\", \"50-25\",\"1+6\", \"81/9\", \"22+10\", \"8/4\", \"9*7\", \"17-4\", \"3+5\"]\n",
        "\n",
        "dailyQuestion=random.choice(question)\n",
        "print(\"#########################\")\n",
        "print(\"# 오늘의 산수 문제 #\")\n",
        "print(\"#########################\")\n",
        "print(\"\")\n",
        "print(dailyQuestion)  "
      ]
    },
    {
      "cell_type": "code",
      "source": [
        "items={\"커피음료\": 7, \"펜\": 3, \"종이컵\":2, \"우유\": 1, \"콜라\": 4, \"책\": 5}\n",
        "\n",
        "while True:\n",
        "  print(\"\")\n",
        "  print(\"#재고 목록#\")\n",
        "  for key in sorted(items.keys()):\n",
        "    print(key, items[key])\n",
        "    \n",
        "print(\"\\n********************\")\n",
        "print(\"0. 종료\")\n",
        "print(\"1. 재고추가\")\n",
        "print(\"2. 재고 삭제\")\n",
        "print(\"********************\\n\")\n",
        "a=int(input(\"무엇을 하시겠습니까?: \"))\n",
        "\n",
        "if a==1:\n",
        "  item=input(\"물건의 이름을 입력하시오: \")\n",
        "  num=input(\"몇 개를 추가하시겠습니까?: \")\n",
        "  items[item]=int(items[item])+ int(num)\n",
        "\n",
        "elif a==2:\n",
        "  item=input(\"물거의 이름을 입력하시오.: \")\n",
        "  num=input(\"몇 개를 삭제하시겠습니까?: \")\n",
        "  items[item]=int(items[item])-int(num)\n",
        "  \n",
        "else:\n",
        "  break"
      ],
      "metadata": {
        "id": "zjqc2EtW8Nt0"
      },
      "execution_count": null,
      "outputs": []
    },
    {
      "cell_type": "code",
      "source": [
        "import smtplib\n",
        "from email.mime.text import MIMEText\n",
        "\n",
        "me='abc@server.kr'\n",
        "you=['def1@server.com', 'def2@server.com', 'def3@server.com']\n",
        "contents='12월 20일에 동창회가 있으니 참석해주시기 바랍니다.'\n",
        "\n",
        "msg=MIMEText(contents, _charset='euc-kr')\n",
        "msg['Subject']='동창회 모임'\n",
        "msg['From']=me\n",
        "msg['To']=you\n",
        "\n",
        "server=smtplib.SMTP('smtp.gmail.com', 587)\n",
        "server.ehlo()\n",
        "server.starttls()\n",
        "server.ehlo()\n",
        "\n",
        "server.login(\"자신의 아이디\", \"패스워드\")\n",
        "\n",
        "for i in range(len(you)):\n",
        "  server.sendmail(me, you[i], msg.as_string())\n",
        "server.quit()"
      ],
      "metadata": {
        "id": "rAoahpRsAnJI"
      },
      "execution_count": null,
      "outputs": []
    }
  ]
}