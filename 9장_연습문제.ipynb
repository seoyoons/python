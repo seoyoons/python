{
  "nbformat": 4,
  "nbformat_minor": 0,
  "metadata": {
    "colab": {
      "name": "9장 연습문제",
      "provenance": [],
      "authorship_tag": "ABX9TyMnK5VkLKQvUVy3/sMc9EAA",
      "include_colab_link": true
    },
    "kernelspec": {
      "name": "python3",
      "display_name": "Python 3"
    },
    "language_info": {
      "name": "python"
    }
  },
  "cells": [
    {
      "cell_type": "markdown",
      "metadata": {
        "id": "view-in-github",
        "colab_type": "text"
      },
      "source": [
        "<a href=\"https://colab.research.google.com/github/seoyoons/python/blob/main/9%EC%9E%A5_%EC%97%B0%EC%8A%B5%EB%AC%B8%EC%A0%9C.ipynb\" target=\"_parent\"><img src=\"https://colab.research.google.com/assets/colab-badge.svg\" alt=\"Open In Colab\"/></a>"
      ]
    },
    {
      "cell_type": "code",
      "source": [
        "alist=[] #[] 리스트를 의미\n",
        "sum=0 #초기화\n",
        "\n",
        "for i in range(5): #5번 반복\n",
        "      i=int(input(\"정수를 입력하시오: \")) \n",
        "      alist.append(i) #리스트의 맨 마지막 부분에 추가\n",
        "      \n",
        "for i in alist: \n",
        "      sum += 1 \n",
        "avg = sum/len(alist) #len은 문자열의 문자 수\n",
        "print(\"평균=\", avg) "
      ],
      "metadata": {
        "id": "W0bxW-TbgPQo"
      },
      "execution_count": null,
      "outputs": []
    },
    {
      "cell_type": "code",
      "source": [
        "import random #랜덤 모듈 불러오기\n",
        "counters=[0, 0, 0, 0, 0, 0] #리스트 항목\n",
        "\n",
        "for i in range(1000): #1000번 반복\n",
        "  value=random.randint(0,5) #0부터 5안에서 랜덤\n",
        "  counters[value]=counters[value]+1\n",
        "\n",
        "for i in range(6): #6번 반복\n",
        "  print(\"주사위가\", i+1, \"인 경우는\", counters[i], \"번\")"
      ],
      "metadata": {
        "id": "wRsGOgH6g2tM"
      },
      "execution_count": null,
      "outputs": []
    },
    {
      "cell_type": "code",
      "source": [
        "contacts = {} #딕셔너리\n",
        "\n",
        "while True: #무한루프\n",
        "  name=input(\"(입력모드)이름을 입력하시오: \")\n",
        "  if not name: \n",
        "    break;#반복 종료\n",
        "  tel=input(\"전화번호를 입력하시오: \")\n",
        "  contacts[name]=tel #딕셔너리에 저장\n",
        "\n",
        "while True: #뮤한루프\n",
        "  name2=input(\"(검색모드)이름을 입력하시오.: \")\n",
        "  print(name2, \"의 전화번호는\", contacts[name2], \"입니다.\") \n",
        "  if not name2:\n",
        "    break;"
      ],
      "metadata": {
        "id": "MJdYknvPimt_"
      },
      "execution_count": null,
      "outputs": []
    },
    {
      "cell_type": "code",
      "source": [
        "import turtle #turtle 모듈 불러오기\n",
        "import random # 랜덤 모듈 불러오기\n",
        "t=turtle.Turtle() # turtle을 t로 선언\n",
        "t.shape(\"turtle\") #아이콘을 거북이 모양으로 선언\n",
        "\n",
        "def draw_square(x,y,c): #함수 정의\n",
        "  t.up() # 펜 들어 올림\n",
        "  t.goto(x,y) #해당 좌표로 이동\n",
        "  t.down() #펜 내림\n",
        "  t.color(\"black\", c) #펜 색깔은 검정색, 채워지는 색은 c\n",
        "  t.begin_fill() #채워진 다각형 시작\n",
        "  t.forward(100) #100픽셀 직진\n",
        "  t.left(90) #왼쪽으로 90도 회전\n",
        "  t.forward(100) \n",
        "  t.left(90)\n",
        "  t.forward(100)\n",
        "  t.left(90)\n",
        "  t.forward(100)\n",
        "  t.left(90)\n",
        "  t.end_fill() #채워진 다각형 닫는다\n",
        "  \n",
        "for c in [\"yellow\", \"red\", \"purple\", \"blue\"]: #순서대로 펜의 색깔 지정됨.\n",
        "  x=random.randint(-100,100) # x좌표 해당 범위 내에서 랜덤\n",
        "  y=random.randint(-100,100) # y좌표 해당 범위 내에서 랜덤\n",
        "  draw_square(x,y,c) # 사각형 그려짐"
      ],
      "metadata": {
        "id": "YYYbTbhtnpIv"
      },
      "execution_count": null,
      "outputs": []
    },
    {
      "cell_type": "code",
      "source": [
        "import turtle #turtle 모듈 불러오기\n",
        "import random #랜덤 모듈 불러오기\n",
        "\n",
        "t=turtle.Turtle() #turtle을 t로 선언\n",
        "s=turtle.Screen() #그림이 그려지는 화면을 얻는다\n",
        "\n",
        "def draw_shape(t, c, length, sides, x, y): # 함수 정의\n",
        "  t.up() # 펜 들어올림\n",
        "  t.goto(x,y) #해당 좌표로 이동\n",
        "  t.down() #펜 내림\n",
        "  t.fillcolor(c) # 다각형을 채우는 색상 변경\n",
        "  angle=360.0/sides # 각도 설정\n",
        "  t.begin_fill() #채워진 다각형 그려지기 시작\n",
        "  for dist in range(sides): # 변 길이\n",
        "    t.forward(length) # 해당 길이만큼 직진\n",
        "    t.left(angle) #해당 각도만큼 왼쪽으로 회전\n",
        "  t.end_fill() #채워진 다각형 닫기\n",
        "  \n",
        "for i in range(10): #10번 반복\n",
        "  color=random.choice(['white', 'yellow', 'blue', 'skyblue', 'orange', 'green']) #컬러 랜덤으로 지정\n",
        "  side_length=random.randint(10,100) #변의 길이 해당 범위 내에서 랜덤 지정 \n",
        "  sides=random.randint(3,10) #변 개수 랜덤 \n",
        "  x=random.randint(-200,200) # x좌표 랜덤\n",
        "  y=random.randint(-200,200) # y좌표 랜덤\n",
        "  draw_shape(t, color, side_length, sides, x, y) #도형 그려짐"
      ],
      "metadata": {
        "id": "0Uf0VLlvu2eQ"
      },
      "execution_count": null,
      "outputs": []
    },
    {
      "cell_type": "code",
      "source": [
        "import turtle #turtle 모듈 불러오기\n",
        "import random #랜덤 모듈 불러오기\n",
        "\n",
        "t=turtle.Turtle() #turtle을 t로 선언\n",
        "s=turtle.Screen() #그림 그려지는 화면 생성\n",
        "s.bgcolor(\"black\") #배경 색은 검정색으로\n",
        "\n",
        "def draw_star(aturtle, color, side_length, x, y): #함수 정의\n",
        "  aturtle.color(color) # 해당 색으로 색상 설정\n",
        "  aturtle.begin_fill() # 채워진 다각형 그려지기 시작\n",
        "  aturtle.penup() # 펜 들어올리기\n",
        "  aturtle.goto(x, y) #해당 좌표로 이동\n",
        "  aturtle.pendown() #펜 내림\n",
        "  for i in range(5): # 5번 반복\n",
        "    aturtle.forward(side_length) # 변의 길이만큼 직진\n",
        "    aturtle.right(144) #왼쪽으로 144도 회전\n",
        "    aturtle.forward(side_length) #변의 길이만큼 직진\n",
        "  aturtle.end_fill() #채워진 다각형 닫기\n",
        "  \n",
        "for i in range(20): #20번 반복\n",
        "  color=random.choice(['white', 'yellow', 'blue', 'skyblue', 'orange', 'green']) #색상 랜덤으로 선택\n",
        "  side_length=random.randint(10,100) # 변의 길이 해당 범위 내에서 랜덤\n",
        "  x=random.randint(-200,200) #x좌표 해당 범위 내에서 랜덤\n",
        "  y=random.randint(-200,200) #y좌표 해당 범위 내에서 랜덤\n",
        "  draw_star(t, color, side_length, x, y) #별 그려지기 시작"
      ],
      "metadata": {
        "id": "nwA8T_HHweod"
      },
      "execution_count": null,
      "outputs": []
    },
    {
      "cell_type": "code",
      "source": [
        "domains={\"kr\": \"대한민국\", \"us\": \"미국\", \"jp\": \"일본\", \"de\": \"독일\", \"sk\": \"슬로바키아\", \"hu\": \"헝가리\", \"no\": \"노르웨이\"} #딕셔너리로 저장\n",
        "\n",
        "for k, v in domains.items():\n",
        "  print(k, \":\", v)"
      ],
      "metadata": {
        "id": "yTybkRopwhKA"
      },
      "execution_count": null,
      "outputs": []
    },
    {
      "cell_type": "markdown",
      "source": [
        "8-1"
      ],
      "metadata": {
        "id": "SJYQw5Z5ztDW"
      }
    },
    {
      "cell_type": "code",
      "source": [
        "problems={'파이썬': '최근에 가장 떠오르는 프로그래밍 언어', \n",
        "          '변수': '데이터를 저장하는 메모리 공간', \n",
        "          '함수': '작업을 수행하는 문장들의 집합에 이름을 붙인것', \n",
        "          '리스트': '서로 관련이 없는 항목들의 모임'\n",
        "          } #딕셔너리로 저장\n",
        "\n",
        "def show_words(problems): #함수 정의\n",
        "  display_message=\"\" #초기화\n",
        "  i=1\n",
        "  for word in problems.keys(): # (딕셔너리) 키 \n",
        "    display_message += \"(\"+str(i)+\")\"\n",
        "    display_message += word + \" \"\n",
        "    i+=1\n",
        "    print(display_message) # 보가 출력\n",
        "    \n",
        "for meaning in problems.values(): #(딕셔너리) 값\n",
        "  print(\"다음 어떤 단어에 대한 설명일까요?\")\n",
        "  print(\"\\\" \"+meaning+\"\\\"\") #문제 출력\n",
        "  correct=False\n",
        "  while not correct: #맞지 않는다면\n",
        "    show_words(problems)\n",
        "    guessed_word=input(\"\") #추측 되는 단어 입력 칸 생성\n",
        "    if problems[guessed_word]==meaning: #추측한 단어와 답이 동일하면\n",
        "      print(\"정답입니다!\") #정답입니다\n",
        "    else: # 답이 아니면\n",
        "      print(\"정답이 아닙니다.\") #정답이 아닙니다."
      ],
      "metadata": {
        "id": "zDM1cxnexDWq"
      },
      "execution_count": null,
      "outputs": []
    },
    {
      "cell_type": "markdown",
      "source": [
        "8-2"
      ],
      "metadata": {
        "id": "9DdcN6O_0xuU"
      }
    },
    {
      "cell_type": "code",
      "source": [
        "problems={'파이썬': '최근에 가장 떠오르는 프로그래밍 언어', \n",
        "          '변수': '데이터를 저장하는 메모리 공간', \n",
        "          '함수': '작업을 수행하는 문장들의 집합에 이름을 붙인것', \n",
        "          '리스트': '서로 관련이 없는 항목들의 모임'}\n",
        "\n",
        "for word in problems.keys():\n",
        "      print(\"다음은 어떤 단어에 대한 설명일까요?\")\n",
        "      print(problems[word])\n",
        "      print(\"(1)파이썬 (2)함수 (3)리스트 (4)변수\")\n",
        "      ans=input()\n",
        "      \n",
        "      if ans==word:\n",
        "            print(\"정답입니다.!\")\n",
        "      else:\n",
        "            print(\"정답이 아닙니다.!\")"
      ],
      "metadata": {
        "id": "7Vse6SNCzyar"
      },
      "execution_count": null,
      "outputs": []
    }
  ]
}