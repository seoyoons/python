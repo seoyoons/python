{
  "nbformat": 4,
  "nbformat_minor": 0,
  "metadata": {
    "colab": {
      "name": "9장 연습문제",
      "provenance": [],
      "authorship_tag": "ABX9TyNPqhTznZBJFVo0j2Ph/VyL",
      "include_colab_link": true
    },
    "kernelspec": {
      "name": "python3",
      "display_name": "Python 3"
    },
    "language_info": {
      "name": "python"
    }
  },
  "cells": [
    {
      "cell_type": "markdown",
      "metadata": {
        "id": "view-in-github",
        "colab_type": "text"
      },
      "source": [
        "<a href=\"https://colab.research.google.com/github/seoyoons/python/blob/main/9%EC%9E%A5_%EC%97%B0%EC%8A%B5%EB%AC%B8%EC%A0%9C.ipynb\" target=\"_parent\"><img src=\"https://colab.research.google.com/assets/colab-badge.svg\" alt=\"Open In Colab\"/></a>"
      ]
    },
    {
      "cell_type": "code",
      "source": [
        "alist=[]\n",
        "sum=0\n",
        "\n",
        "for i in range(5):\n",
        "      i=int(input(\"정수를 입력하시오: \"))\n",
        "      alist.append(i)\n",
        "      \n",
        "for i in alist:\n",
        "      sum += 1\n",
        "avg = sum/len(alist)\n",
        "print(\"평균=\", avg)"
      ],
      "metadata": {
        "id": "W0bxW-TbgPQo"
      },
      "execution_count": null,
      "outputs": []
    },
    {
      "cell_type": "code",
      "source": [
        "import random\n",
        "counters=[0, 0, 0, 0, 0, 0]\n",
        "\n",
        "for i in range(1000):\n",
        "  value=random.randint(0,5)\n",
        "  counters[value]=counters[value]+1\n",
        "\n",
        "for i in range(6):\n",
        "  print(\"주사위가\", i+1, \"인 경우는\", counters[i], \"번\")"
      ],
      "metadata": {
        "id": "wRsGOgH6g2tM"
      },
      "execution_count": null,
      "outputs": []
    },
    {
      "cell_type": "code",
      "source": [
        "contacts = {}\n",
        "\n",
        "while True:\n",
        "  name=input(\"(입력모드)이름을 입력하시오: \")\n",
        "  if not name:\n",
        "    break;\n",
        "  tel=input(\"전화번호를 입력하시오: \")\n",
        "  contacts[name]=tel\n",
        "\n",
        "while True:\n",
        "  name2=input(\"(검색모드)이름을 입력하시오.: \")\n",
        "  print(name2, \"의 전화번호는\", contacts[name2], \"입니다.\") \n",
        "  if not name2:\n",
        "    break;"
      ],
      "metadata": {
        "id": "MJdYknvPimt_"
      },
      "execution_count": null,
      "outputs": []
    },
    {
      "cell_type": "code",
      "source": [
        "import turtle\n",
        "import random\n",
        "t=turtle.Turtle()\n",
        "t.shape(\"turtle\")\n",
        "\n",
        "def draw_square(x,y,c):\n",
        "  t.up()\n",
        "  t.goto(x,y)\n",
        "  t.down()\n",
        "  t.color(\"black\", c)\n",
        "  t.begin_fill()\n",
        "  t.forward(100)\n",
        "  t.left(90)\n",
        "  t.forward(100)\n",
        "  t.left(90)\n",
        "  t.forward(100)\n",
        "  t.left(90)\n",
        "  t.forward(100)\n",
        "  t.left(90)\n",
        "  t.end_fill()\n",
        "  \n",
        "for c in [\"yellow\", \"red\", \"purple\", \"blue\"]:\n",
        "  x=random.randint(-100,100)\n",
        "  y=random.randint(-100,100)\n",
        "  draw_square(x,y,c)"
      ],
      "metadata": {
        "id": "YYYbTbhtnpIv"
      },
      "execution_count": null,
      "outputs": []
    },
    {
      "cell_type": "code",
      "source": [
        "import turtle\n",
        "import random\n",
        "\n",
        "t=turtle.Turtle()\n",
        "s=turtle.Screen()\n",
        "\n",
        "def draw_shape(t, c, length, sides, x, y):\n",
        "  t.up()\n",
        "  t.goto(x,y)\n",
        "  t.down()\n",
        "  t.fillcolor(c)\n",
        "  angle=360.0/sides\n",
        "  t.begin_fill()\n",
        "  for dist in range(sides):\n",
        "    t.forward(length)\n",
        "    t.left(angle)\n",
        "  t.end_fill()\n",
        "  \n",
        "for i in range(10):\n",
        "  color=random.choice(['white', 'yellow', 'blue', 'skyblue', 'orange', 'green'])\n",
        "  side_length=random.randint(10,100)\n",
        "  sides=random.randint(3,10)\n",
        "  x=random.randint(-200,200)\n",
        "  y=random.randint(-200,200)\n",
        "  draw_shape(t, color, side_length, sides, x, y)"
      ],
      "metadata": {
        "id": "0Uf0VLlvu2eQ"
      },
      "execution_count": null,
      "outputs": []
    },
    {
      "cell_type": "code",
      "source": [
        "import turtle\n",
        "import random\n",
        "\n",
        "t=turtle.Turtle()\n",
        "s=turtle.Screen()\n",
        "s.bgcolor(\"black\")\n",
        "\n",
        "def draw_star(aturtle, color, side_length, x, y):\n",
        "  aturtle.color(color)\n",
        "  aturtle.begin_fill()\n",
        "  aturtle.penup()\n",
        "  aturtle.goto(x, y)\n",
        "  aturtle.pendown()\n",
        "  for i in range(5):\n",
        "    aturtle.forward(side_length)\n",
        "    aturtle.right(144)\n",
        "    aturtle.forward(side_length)\n",
        "  aturtle.end_fill()\n",
        "  \n",
        "for i in range(20):\n",
        "  color=random.choice(['white', 'yellow', 'blue', 'skyblue', 'orange', 'green'])\n",
        "  side_length=random.randint(10,100)\n",
        "  x=random.randint(-200,200)\n",
        "  y=random.randint(-200,200)\n",
        "  draw_star(t, color, side_length, x, y)"
      ],
      "metadata": {
        "id": "nwA8T_HHweod"
      },
      "execution_count": null,
      "outputs": []
    },
    {
      "cell_type": "code",
      "source": [
        "domains={\"kr\": \"대한민국\", \"us\": \"미국\", \"jp\": \"일본\", \"de\": \"독일\", \"sk\": \"슬로바키아\", \"hu\": \"헝가리\", \"no\": \"노르웨이\"}\n",
        "\n",
        "for k, v in domains.items():\n",
        "  print(k, \":\", v)"
      ],
      "metadata": {
        "id": "yTybkRopwhKA"
      },
      "execution_count": null,
      "outputs": []
    },
    {
      "cell_type": "markdown",
      "source": [
        "8-1"
      ],
      "metadata": {
        "id": "SJYQw5Z5ztDW"
      }
    },
    {
      "cell_type": "code",
      "source": [
        "problems={'파이썬': '최근에 가장 떠오르는 프로그래밍 언어', \n",
        "          '변수': '데이터를 저장하는 메모리 공간', \n",
        "          '함수': '작업을 수행하는 문장들의 집합에 이름을 붙인것', \n",
        "          '리스트': '서로 관련이 없는 항목들의 모임'\n",
        "          }\n",
        "\n",
        "def show_words(problems):\n",
        "  display_message=\"\"\n",
        "  i=1\n",
        "  for word in problems.keys():\n",
        "    display_message += \"(\"+str(i)+\")\"\n",
        "    display_message += word + \" \"\n",
        "    i+=1\n",
        "    print(display_message)\n",
        "    \n",
        "for meaning in problems.values():\n",
        "  print(\"다음 어떤 단어에 대한 설명일까요?\")\n",
        "  print(\"\\\" \"+meaning+\"\\\"\")\n",
        "  correct=False\n",
        "  while not correct:\n",
        "    show_words(problems)\n",
        "    guessed_word=input(\"\")\n",
        "    if problems[guessed_word]==meaning:\n",
        "      print(\"정답입니다!\")\n",
        "    else:\n",
        "      print(\"정답이 아닙니다.\")"
      ],
      "metadata": {
        "id": "zDM1cxnexDWq"
      },
      "execution_count": null,
      "outputs": []
    },
    {
      "cell_type": "markdown",
      "source": [
        "8-2"
      ],
      "metadata": {
        "id": "9DdcN6O_0xuU"
      }
    },
    {
      "cell_type": "code",
      "source": [
        "problems={'파이썬': '최근에 가장 떠오르는 프로그래밍 언어', \n",
        "          '변수': '데이터를 저장하는 메모리 공간', \n",
        "          '함수': '작업을 수행하는 문장들의 집합에 이름을 붙인것', \n",
        "          '리스트': '서로 관련이 없는 항목들의 모임'}\n",
        "\n",
        "for word in problems.keys():\n",
        "      print(\"다음은 어떤 단어에 대한 설명일까요?\")\n",
        "      print(problems[word])\n",
        "      print(\"(1)파이썬 (2)함수 (3)리스트 (4)변수\")\n",
        "      ans=input()\n",
        "      \n",
        "      if ans==word:\n",
        "            print(\"정답입니다.!\")\n",
        "      else:\n",
        "            print(\"정답이 아닙니다.!\")"
      ],
      "metadata": {
        "id": "7Vse6SNCzyar"
      },
      "execution_count": null,
      "outputs": []
    }
  ]
}