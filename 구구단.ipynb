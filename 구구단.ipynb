{
  "nbformat": 4,
  "nbformat_minor": 0,
  "metadata": {
    "colab": {
      "name": "구구단",
      "provenance": [],
      "authorship_tag": "ABX9TyNzM85UwEPTV/Fv4DiHIRxl",
      "include_colab_link": true
    },
    "kernelspec": {
      "name": "python3",
      "display_name": "Python 3"
    },
    "language_info": {
      "name": "python"
    }
  },
  "cells": [
    {
      "cell_type": "markdown",
      "metadata": {
        "id": "view-in-github",
        "colab_type": "text"
      },
      "source": [
        "<a href=\"https://colab.research.google.com/github/seoyoons/python/blob/main/%EA%B5%AC%EA%B5%AC%EB%8B%A8.ipynb\" target=\"_parent\"><img src=\"https://colab.research.google.com/assets/colab-badge.svg\" alt=\"Open In Colab\"/></a>"
      ]
    },
    {
      "cell_type": "code",
      "metadata": {
        "id": "HCW2TPUNkclQ"
      },
      "source": [
        "for dan in range(1, 19):\n",
        "  for i in range(1, 10):\n",
        "    print(f'{dan}x{i}={dan*i}')"
      ],
      "execution_count": null,
      "outputs": []
    },
    {
      "cell_type": "code",
      "source": [
        "for i in range(1,10):\n",
        "      for j in range(1,10):\n",
        "            print(\"%dx%d=%d \" % (i, j, i*j ), end=\"\")\n",
        "            if j==9:\n",
        "              print(\"\\n\")"
      ],
      "metadata": {
        "id": "9bPV1ijKZJr6"
      },
      "execution_count": null,
      "outputs": []
    }
  ]
}