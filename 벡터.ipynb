{
  "nbformat": 4,
  "nbformat_minor": 0,
  "metadata": {
    "colab": {
      "name": "벡터",
      "provenance": [],
      "authorship_tag": "ABX9TyMKMwU5J2pAqu0HJfPR2Mk+",
      "include_colab_link": true
    },
    "kernelspec": {
      "name": "python3",
      "display_name": "Python 3"
    },
    "language_info": {
      "name": "python"
    }
  },
  "cells": [
    {
      "cell_type": "markdown",
      "metadata": {
        "id": "view-in-github",
        "colab_type": "text"
      },
      "source": [
        "<a href=\"https://colab.research.google.com/github/seoyoons/python/blob/main/%EB%B2%A1%ED%84%B0.ipynb\" target=\"_parent\"><img src=\"https://colab.research.google.com/assets/colab-badge.svg\" alt=\"Open In Colab\"/></a>"
      ]
    },
    {
      "cell_type": "markdown",
      "metadata": {
        "id": "ZTaJ8m2paLbZ"
      },
      "source": [
        "물리학과 공학에서의 벡터는 스칼라와 달리 방향과 크기를 사용하여 나타낼 수 있다. 스칼라란 크기만을 갖는 양이라고 정의할 수 있다. 예시를 들어보자면, ‘시속 50km로 달리고 있다.’ 라는 문장과 같이 스칼라는 오로지 크기만을 갖는 다는 것을 볼 수 있다. 이와 달리 벡터는 크기 뿐만 아니라 방향을 가지며, ‘시속 50km로 북쪽을 향해 달리고 있다.’ 라는 문장으로 이해할 수 있다.\n",
        "\n",
        "벡터는 컴퓨터에서 그래픽의 형식으로도 활용된다. 벡터이미지는 선과 도형으로 표현하는 방식으로 섬세하고 사실적인 표현이 어렵지만, 화면을 확대해도 계단현상이 발생하지 않고, 그림을 확대해도 해상도가 떨어지지 않으며, 저장용량의 크기가 작다는 장점을 갖는다.\n",
        "\n",
        "프로그래밍에서의 벡터는 같은 자료형을 가진 여러 개의 값으로 구성된 1차원의 데이터이다. 벡터는 c() 함수 안에 여러 개의 스칼라를 \",\"로 연결하여 입력하는 방법으로 만들 수 있다. 나열하는 인자들은 벡터의 정의대로 한 가지 유형의 스칼라 타입이어야 한다. 만약 어떤 벡터에 자료형이 다른 원소가 추가될 시, 강제변환이 발생한다. 서로 다른 타입의 데이터를 섞어서 벡터에 저장할 경우, 데이터는 한 가지 타입으로 자동 형 변화되는 것이다. 예를 들어 논리형 벡터와 범주형 벡터가 하나로 합쳐질 때, 원소의 자료형이 같아지도록 하기 위해 두 벡터의 공통 자료형인 정수형 벡터로 자동 변경된다."
      ]
    }
  ]
}